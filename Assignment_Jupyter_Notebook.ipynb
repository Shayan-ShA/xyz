{
 "cells": [
  {
   "cell_type": "code",
   "execution_count": 1,
   "id": "f041a659",
   "metadata": {},
   "outputs": [],
   "source": [
    "import pandas as pd\n",
    "from matplotlib import pyplot as plt\n",
    "import math\n",
    "import numpy as np"
   ]
  },
  {
   "cell_type": "code",
   "execution_count": 2,
   "id": "33cb523a",
   "metadata": {},
   "outputs": [],
   "source": [
    "dframe = pd.read_csv(\"take_home_freight.csv\")"
   ]
  },
  {
   "cell_type": "code",
   "execution_count": 3,
   "id": "9e6c6d02",
   "metadata": {},
   "outputs": [
    {
     "data": {
      "text/html": [
       "<div>\n",
       "<style scoped>\n",
       "    .dataframe tbody tr th:only-of-type {\n",
       "        vertical-align: middle;\n",
       "    }\n",
       "\n",
       "    .dataframe tbody tr th {\n",
       "        vertical-align: top;\n",
       "    }\n",
       "\n",
       "    .dataframe thead th {\n",
       "        text-align: right;\n",
       "    }\n",
       "</style>\n",
       "<table border=\"1\" class=\"dataframe\">\n",
       "  <thead>\n",
       "    <tr style=\"text-align: right;\">\n",
       "      <th></th>\n",
       "      <th>Unnamed: 0</th>\n",
       "      <th>vended_id</th>\n",
       "      <th>date_trans</th>\n",
       "      <th>vendor_name</th>\n",
       "      <th>productText</th>\n",
       "      <th>sku</th>\n",
       "      <th>zone_code</th>\n",
       "      <th>delivery_state</th>\n",
       "      <th>length</th>\n",
       "      <th>width</th>\n",
       "      <th>height</th>\n",
       "      <th>charged_weight</th>\n",
       "      <th>freight_cost</th>\n",
       "      <th>carrier</th>\n",
       "      <th>service_type</th>\n",
       "    </tr>\n",
       "  </thead>\n",
       "  <tbody>\n",
       "    <tr>\n",
       "      <th>0</th>\n",
       "      <td>0</td>\n",
       "      <td>93434534</td>\n",
       "      <td>2020-12-27</td>\n",
       "      <td>JCW API</td>\n",
       "      <td>Bumper Grille</td>\n",
       "      <td>003510TR1530003</td>\n",
       "      <td>5</td>\n",
       "      <td>NY</td>\n",
       "      <td>61.0</td>\n",
       "      <td>14.0</td>\n",
       "      <td>4.0</td>\n",
       "      <td>9.0</td>\n",
       "      <td>19.33</td>\n",
       "      <td>FedEx</td>\n",
       "      <td>FedEx Home Delivery (FedEx Ground Service)</td>\n",
       "    </tr>\n",
       "    <tr>\n",
       "      <th>1</th>\n",
       "      <td>2</td>\n",
       "      <td>93455745</td>\n",
       "      <td>2020-12-27</td>\n",
       "      <td>US Auto Parts Nevada API</td>\n",
       "      <td>Window Regulator</td>\n",
       "      <td>7194GPERG491702</td>\n",
       "      <td>8</td>\n",
       "      <td>FL</td>\n",
       "      <td>28.0</td>\n",
       "      <td>18.0</td>\n",
       "      <td>13.0</td>\n",
       "      <td>17.0</td>\n",
       "      <td>16.25</td>\n",
       "      <td>FedEx</td>\n",
       "      <td>FedEx Home Delivery (FedEx Ground Service)</td>\n",
       "    </tr>\n",
       "    <tr>\n",
       "      <th>2</th>\n",
       "      <td>3</td>\n",
       "      <td>93457913</td>\n",
       "      <td>2020-12-27</td>\n",
       "      <td>JCW API</td>\n",
       "      <td>Fender Flares</td>\n",
       "      <td>9355JPERJ553908</td>\n",
       "      <td>5</td>\n",
       "      <td>MA</td>\n",
       "      <td>39.0</td>\n",
       "      <td>26.0</td>\n",
       "      <td>14.0</td>\n",
       "      <td>36.0</td>\n",
       "      <td>14.80</td>\n",
       "      <td>FedEx</td>\n",
       "      <td>FedEx Home Delivery (FedEx Ground Service)</td>\n",
       "    </tr>\n",
       "    <tr>\n",
       "      <th>3</th>\n",
       "      <td>4</td>\n",
       "      <td>93459077</td>\n",
       "      <td>2020-12-27</td>\n",
       "      <td>JCW API</td>\n",
       "      <td>Water Pump</td>\n",
       "      <td>5313MPERM313502</td>\n",
       "      <td>7</td>\n",
       "      <td>CA</td>\n",
       "      <td>15.0</td>\n",
       "      <td>10.0</td>\n",
       "      <td>9.0</td>\n",
       "      <td>6.0</td>\n",
       "      <td>9.09</td>\n",
       "      <td>FedEx</td>\n",
       "      <td>FedEx Home Delivery (FedEx Ground Service)</td>\n",
       "    </tr>\n",
       "    <tr>\n",
       "      <th>4</th>\n",
       "      <td>5</td>\n",
       "      <td>93463732</td>\n",
       "      <td>2020-12-27</td>\n",
       "      <td>JCW API</td>\n",
       "      <td>Mass Air Flow Sensor</td>\n",
       "      <td>7613MPERM316709</td>\n",
       "      <td>6</td>\n",
       "      <td>ID</td>\n",
       "      <td>12.0</td>\n",
       "      <td>8.0</td>\n",
       "      <td>7.0</td>\n",
       "      <td>2.0</td>\n",
       "      <td>11.12</td>\n",
       "      <td>FedEx</td>\n",
       "      <td>FedEx Home Delivery (FedEx Ground Service)</td>\n",
       "    </tr>\n",
       "  </tbody>\n",
       "</table>\n",
       "</div>"
      ],
      "text/plain": [
       "   Unnamed: 0  vended_id  date_trans               vendor_name  \\\n",
       "0           0   93434534  2020-12-27                   JCW API   \n",
       "1           2   93455745  2020-12-27  US Auto Parts Nevada API   \n",
       "2           3   93457913  2020-12-27                   JCW API   \n",
       "3           4   93459077  2020-12-27                   JCW API   \n",
       "4           5   93463732  2020-12-27                   JCW API   \n",
       "\n",
       "            productText              sku  zone_code delivery_state  length  \\\n",
       "0         Bumper Grille  003510TR1530003          5             NY    61.0   \n",
       "1      Window Regulator  7194GPERG491702          8             FL    28.0   \n",
       "2         Fender Flares  9355JPERJ553908          5             MA    39.0   \n",
       "3            Water Pump  5313MPERM313502          7             CA    15.0   \n",
       "4  Mass Air Flow Sensor  7613MPERM316709          6             ID    12.0   \n",
       "\n",
       "   width  height  charged_weight  freight_cost carrier  \\\n",
       "0   14.0     4.0             9.0         19.33   FedEx   \n",
       "1   18.0    13.0            17.0         16.25   FedEx   \n",
       "2   26.0    14.0            36.0         14.80   FedEx   \n",
       "3   10.0     9.0             6.0          9.09   FedEx   \n",
       "4    8.0     7.0             2.0         11.12   FedEx   \n",
       "\n",
       "                                 service_type  \n",
       "0  FedEx Home Delivery (FedEx Ground Service)  \n",
       "1  FedEx Home Delivery (FedEx Ground Service)  \n",
       "2  FedEx Home Delivery (FedEx Ground Service)  \n",
       "3  FedEx Home Delivery (FedEx Ground Service)  \n",
       "4  FedEx Home Delivery (FedEx Ground Service)  "
      ]
     },
     "execution_count": 3,
     "metadata": {},
     "output_type": "execute_result"
    }
   ],
   "source": [
    "dframe.head()"
   ]
  },
  {
   "cell_type": "code",
   "execution_count": 4,
   "id": "cba064f6",
   "metadata": {},
   "outputs": [
    {
     "data": {
      "text/plain": [
       "(584335, 15)"
      ]
     },
     "execution_count": 4,
     "metadata": {},
     "output_type": "execute_result"
    }
   ],
   "source": [
    "dframe.shape"
   ]
  },
  {
   "cell_type": "code",
   "execution_count": 5,
   "id": "08a991af",
   "metadata": {},
   "outputs": [],
   "source": [
    "dframe[\"girth\"] = 2*dframe[\"width\"] + 2*dframe[\"height\"]"
   ]
  },
  {
   "cell_type": "code",
   "execution_count": 6,
   "id": "6a4043c6",
   "metadata": {},
   "outputs": [
    {
     "data": {
      "text/html": [
       "<div>\n",
       "<style scoped>\n",
       "    .dataframe tbody tr th:only-of-type {\n",
       "        vertical-align: middle;\n",
       "    }\n",
       "\n",
       "    .dataframe tbody tr th {\n",
       "        vertical-align: top;\n",
       "    }\n",
       "\n",
       "    .dataframe thead th {\n",
       "        text-align: right;\n",
       "    }\n",
       "</style>\n",
       "<table border=\"1\" class=\"dataframe\">\n",
       "  <thead>\n",
       "    <tr style=\"text-align: right;\">\n",
       "      <th></th>\n",
       "      <th>Unnamed: 0</th>\n",
       "      <th>vended_id</th>\n",
       "      <th>date_trans</th>\n",
       "      <th>vendor_name</th>\n",
       "      <th>productText</th>\n",
       "      <th>sku</th>\n",
       "      <th>zone_code</th>\n",
       "      <th>delivery_state</th>\n",
       "      <th>length</th>\n",
       "      <th>width</th>\n",
       "      <th>height</th>\n",
       "      <th>charged_weight</th>\n",
       "      <th>freight_cost</th>\n",
       "      <th>carrier</th>\n",
       "      <th>service_type</th>\n",
       "      <th>girth</th>\n",
       "    </tr>\n",
       "  </thead>\n",
       "  <tbody>\n",
       "    <tr>\n",
       "      <th>0</th>\n",
       "      <td>0</td>\n",
       "      <td>93434534</td>\n",
       "      <td>2020-12-27</td>\n",
       "      <td>JCW API</td>\n",
       "      <td>Bumper Grille</td>\n",
       "      <td>003510TR1530003</td>\n",
       "      <td>5</td>\n",
       "      <td>NY</td>\n",
       "      <td>61.0</td>\n",
       "      <td>14.0</td>\n",
       "      <td>4.0</td>\n",
       "      <td>9.0</td>\n",
       "      <td>19.33</td>\n",
       "      <td>FedEx</td>\n",
       "      <td>FedEx Home Delivery (FedEx Ground Service)</td>\n",
       "      <td>36.0</td>\n",
       "    </tr>\n",
       "    <tr>\n",
       "      <th>1</th>\n",
       "      <td>2</td>\n",
       "      <td>93455745</td>\n",
       "      <td>2020-12-27</td>\n",
       "      <td>US Auto Parts Nevada API</td>\n",
       "      <td>Window Regulator</td>\n",
       "      <td>7194GPERG491702</td>\n",
       "      <td>8</td>\n",
       "      <td>FL</td>\n",
       "      <td>28.0</td>\n",
       "      <td>18.0</td>\n",
       "      <td>13.0</td>\n",
       "      <td>17.0</td>\n",
       "      <td>16.25</td>\n",
       "      <td>FedEx</td>\n",
       "      <td>FedEx Home Delivery (FedEx Ground Service)</td>\n",
       "      <td>62.0</td>\n",
       "    </tr>\n",
       "    <tr>\n",
       "      <th>2</th>\n",
       "      <td>3</td>\n",
       "      <td>93457913</td>\n",
       "      <td>2020-12-27</td>\n",
       "      <td>JCW API</td>\n",
       "      <td>Fender Flares</td>\n",
       "      <td>9355JPERJ553908</td>\n",
       "      <td>5</td>\n",
       "      <td>MA</td>\n",
       "      <td>39.0</td>\n",
       "      <td>26.0</td>\n",
       "      <td>14.0</td>\n",
       "      <td>36.0</td>\n",
       "      <td>14.80</td>\n",
       "      <td>FedEx</td>\n",
       "      <td>FedEx Home Delivery (FedEx Ground Service)</td>\n",
       "      <td>80.0</td>\n",
       "    </tr>\n",
       "    <tr>\n",
       "      <th>3</th>\n",
       "      <td>4</td>\n",
       "      <td>93459077</td>\n",
       "      <td>2020-12-27</td>\n",
       "      <td>JCW API</td>\n",
       "      <td>Water Pump</td>\n",
       "      <td>5313MPERM313502</td>\n",
       "      <td>7</td>\n",
       "      <td>CA</td>\n",
       "      <td>15.0</td>\n",
       "      <td>10.0</td>\n",
       "      <td>9.0</td>\n",
       "      <td>6.0</td>\n",
       "      <td>9.09</td>\n",
       "      <td>FedEx</td>\n",
       "      <td>FedEx Home Delivery (FedEx Ground Service)</td>\n",
       "      <td>38.0</td>\n",
       "    </tr>\n",
       "    <tr>\n",
       "      <th>4</th>\n",
       "      <td>5</td>\n",
       "      <td>93463732</td>\n",
       "      <td>2020-12-27</td>\n",
       "      <td>JCW API</td>\n",
       "      <td>Mass Air Flow Sensor</td>\n",
       "      <td>7613MPERM316709</td>\n",
       "      <td>6</td>\n",
       "      <td>ID</td>\n",
       "      <td>12.0</td>\n",
       "      <td>8.0</td>\n",
       "      <td>7.0</td>\n",
       "      <td>2.0</td>\n",
       "      <td>11.12</td>\n",
       "      <td>FedEx</td>\n",
       "      <td>FedEx Home Delivery (FedEx Ground Service)</td>\n",
       "      <td>30.0</td>\n",
       "    </tr>\n",
       "  </tbody>\n",
       "</table>\n",
       "</div>"
      ],
      "text/plain": [
       "   Unnamed: 0  vended_id  date_trans               vendor_name  \\\n",
       "0           0   93434534  2020-12-27                   JCW API   \n",
       "1           2   93455745  2020-12-27  US Auto Parts Nevada API   \n",
       "2           3   93457913  2020-12-27                   JCW API   \n",
       "3           4   93459077  2020-12-27                   JCW API   \n",
       "4           5   93463732  2020-12-27                   JCW API   \n",
       "\n",
       "            productText              sku  zone_code delivery_state  length  \\\n",
       "0         Bumper Grille  003510TR1530003          5             NY    61.0   \n",
       "1      Window Regulator  7194GPERG491702          8             FL    28.0   \n",
       "2         Fender Flares  9355JPERJ553908          5             MA    39.0   \n",
       "3            Water Pump  5313MPERM313502          7             CA    15.0   \n",
       "4  Mass Air Flow Sensor  7613MPERM316709          6             ID    12.0   \n",
       "\n",
       "   width  height  charged_weight  freight_cost carrier  \\\n",
       "0   14.0     4.0             9.0         19.33   FedEx   \n",
       "1   18.0    13.0            17.0         16.25   FedEx   \n",
       "2   26.0    14.0            36.0         14.80   FedEx   \n",
       "3   10.0     9.0             6.0          9.09   FedEx   \n",
       "4    8.0     7.0             2.0         11.12   FedEx   \n",
       "\n",
       "                                 service_type  girth  \n",
       "0  FedEx Home Delivery (FedEx Ground Service)   36.0  \n",
       "1  FedEx Home Delivery (FedEx Ground Service)   62.0  \n",
       "2  FedEx Home Delivery (FedEx Ground Service)   80.0  \n",
       "3  FedEx Home Delivery (FedEx Ground Service)   38.0  \n",
       "4  FedEx Home Delivery (FedEx Ground Service)   30.0  "
      ]
     },
     "execution_count": 6,
     "metadata": {},
     "output_type": "execute_result"
    }
   ],
   "source": [
    "dframe.head()"
   ]
  },
  {
   "cell_type": "code",
   "execution_count": 7,
   "id": "dc546c85",
   "metadata": {},
   "outputs": [
    {
     "data": {
      "text/plain": [
       "str"
      ]
     },
     "execution_count": 7,
     "metadata": {},
     "output_type": "execute_result"
    }
   ],
   "source": [
    "type(dframe.date_trans[0])"
   ]
  },
  {
   "cell_type": "code",
   "execution_count": 8,
   "id": "f0a5e9f9",
   "metadata": {},
   "outputs": [
    {
     "data": {
      "text/html": [
       "<div>\n",
       "<style scoped>\n",
       "    .dataframe tbody tr th:only-of-type {\n",
       "        vertical-align: middle;\n",
       "    }\n",
       "\n",
       "    .dataframe tbody tr th {\n",
       "        vertical-align: top;\n",
       "    }\n",
       "\n",
       "    .dataframe thead th {\n",
       "        text-align: right;\n",
       "    }\n",
       "</style>\n",
       "<table border=\"1\" class=\"dataframe\">\n",
       "  <thead>\n",
       "    <tr style=\"text-align: right;\">\n",
       "      <th></th>\n",
       "      <th>Unnamed: 0</th>\n",
       "      <th>vended_id</th>\n",
       "      <th>date_trans</th>\n",
       "      <th>vendor_name</th>\n",
       "      <th>productText</th>\n",
       "      <th>sku</th>\n",
       "      <th>zone_code</th>\n",
       "      <th>delivery_state</th>\n",
       "      <th>length</th>\n",
       "      <th>width</th>\n",
       "      <th>height</th>\n",
       "      <th>charged_weight</th>\n",
       "      <th>freight_cost</th>\n",
       "      <th>carrier</th>\n",
       "      <th>service_type</th>\n",
       "      <th>girth</th>\n",
       "    </tr>\n",
       "  </thead>\n",
       "  <tbody>\n",
       "    <tr>\n",
       "      <th>136693</th>\n",
       "      <td>159328</td>\n",
       "      <td>95089262</td>\n",
       "      <td>2021-02-04</td>\n",
       "      <td>US Auto Parts Virginia API</td>\n",
       "      <td>Bumper</td>\n",
       "      <td>9010FBR010901</td>\n",
       "      <td>5</td>\n",
       "      <td>FL</td>\n",
       "      <td>114.0</td>\n",
       "      <td>26.0</td>\n",
       "      <td>23.0</td>\n",
       "      <td>171.0</td>\n",
       "      <td>47.15</td>\n",
       "      <td>FedEx</td>\n",
       "      <td>FedEx Home Delivery (FedEx Ground Service)</td>\n",
       "      <td>98.0</td>\n",
       "    </tr>\n",
       "    <tr>\n",
       "      <th>160756</th>\n",
       "      <td>187637</td>\n",
       "      <td>95331515</td>\n",
       "      <td>2021-02-10</td>\n",
       "      <td>JCW API</td>\n",
       "      <td>Grille Assembly</td>\n",
       "      <td>1070F0161</td>\n",
       "      <td>5</td>\n",
       "      <td>TX</td>\n",
       "      <td>113.0</td>\n",
       "      <td>20.0</td>\n",
       "      <td>9.0</td>\n",
       "      <td>51.0</td>\n",
       "      <td>39.96</td>\n",
       "      <td>FedEx</td>\n",
       "      <td>FedEx Home Delivery (FedEx Ground Service)</td>\n",
       "      <td>58.0</td>\n",
       "    </tr>\n",
       "  </tbody>\n",
       "</table>\n",
       "</div>"
      ],
      "text/plain": [
       "        Unnamed: 0  vended_id  date_trans                 vendor_name  \\\n",
       "136693      159328   95089262  2021-02-04  US Auto Parts Virginia API   \n",
       "160756      187637   95331515  2021-02-10                     JCW API   \n",
       "\n",
       "            productText            sku  zone_code delivery_state  length  \\\n",
       "136693           Bumper  9010FBR010901          5             FL   114.0   \n",
       "160756  Grille Assembly      1070F0161          5             TX   113.0   \n",
       "\n",
       "        width  height  charged_weight  freight_cost carrier  \\\n",
       "136693   26.0    23.0           171.0         47.15   FedEx   \n",
       "160756   20.0     9.0            51.0         39.96   FedEx   \n",
       "\n",
       "                                      service_type  girth  \n",
       "136693  FedEx Home Delivery (FedEx Ground Service)   98.0  \n",
       "160756  FedEx Home Delivery (FedEx Ground Service)   58.0  "
      ]
     },
     "execution_count": 8,
     "metadata": {},
     "output_type": "execute_result"
    }
   ],
   "source": [
    "dframe[(dframe[\"length\"] > 108.0) & (dframe[\"length\"]+dframe[\"girth\"] > 165.0)].head(2)"
   ]
  },
  {
   "cell_type": "code",
   "execution_count": 9,
   "id": "da2308eb",
   "metadata": {},
   "outputs": [
    {
     "data": {
      "text/plain": [
       "(12, 16)"
      ]
     },
     "execution_count": 9,
     "metadata": {},
     "output_type": "execute_result"
    }
   ],
   "source": [
    "dframe[(dframe[\"length\"] > 108.0) & (dframe[\"length\"]+dframe[\"girth\"] > 165.0)].shape"
   ]
  },
  {
   "cell_type": "code",
   "execution_count": 10,
   "id": "eff46191",
   "metadata": {},
   "outputs": [],
   "source": [
    "dframe[\"unauthorized\"] = 0"
   ]
  },
  {
   "cell_type": "code",
   "execution_count": 11,
   "id": "34c3af1d",
   "metadata": {},
   "outputs": [
    {
     "data": {
      "text/html": [
       "<div>\n",
       "<style scoped>\n",
       "    .dataframe tbody tr th:only-of-type {\n",
       "        vertical-align: middle;\n",
       "    }\n",
       "\n",
       "    .dataframe tbody tr th {\n",
       "        vertical-align: top;\n",
       "    }\n",
       "\n",
       "    .dataframe thead th {\n",
       "        text-align: right;\n",
       "    }\n",
       "</style>\n",
       "<table border=\"1\" class=\"dataframe\">\n",
       "  <thead>\n",
       "    <tr style=\"text-align: right;\">\n",
       "      <th></th>\n",
       "      <th>Unnamed: 0</th>\n",
       "      <th>vended_id</th>\n",
       "      <th>date_trans</th>\n",
       "      <th>vendor_name</th>\n",
       "      <th>productText</th>\n",
       "      <th>sku</th>\n",
       "      <th>zone_code</th>\n",
       "      <th>delivery_state</th>\n",
       "      <th>length</th>\n",
       "      <th>width</th>\n",
       "      <th>height</th>\n",
       "      <th>charged_weight</th>\n",
       "      <th>freight_cost</th>\n",
       "      <th>carrier</th>\n",
       "      <th>service_type</th>\n",
       "      <th>girth</th>\n",
       "      <th>unauthorized</th>\n",
       "    </tr>\n",
       "  </thead>\n",
       "  <tbody>\n",
       "    <tr>\n",
       "      <th>0</th>\n",
       "      <td>0</td>\n",
       "      <td>93434534</td>\n",
       "      <td>2020-12-27</td>\n",
       "      <td>JCW API</td>\n",
       "      <td>Bumper Grille</td>\n",
       "      <td>003510TR1530003</td>\n",
       "      <td>5</td>\n",
       "      <td>NY</td>\n",
       "      <td>61.0</td>\n",
       "      <td>14.0</td>\n",
       "      <td>4.0</td>\n",
       "      <td>9.0</td>\n",
       "      <td>19.33</td>\n",
       "      <td>FedEx</td>\n",
       "      <td>FedEx Home Delivery (FedEx Ground Service)</td>\n",
       "      <td>36.0</td>\n",
       "      <td>0</td>\n",
       "    </tr>\n",
       "    <tr>\n",
       "      <th>1</th>\n",
       "      <td>2</td>\n",
       "      <td>93455745</td>\n",
       "      <td>2020-12-27</td>\n",
       "      <td>US Auto Parts Nevada API</td>\n",
       "      <td>Window Regulator</td>\n",
       "      <td>7194GPERG491702</td>\n",
       "      <td>8</td>\n",
       "      <td>FL</td>\n",
       "      <td>28.0</td>\n",
       "      <td>18.0</td>\n",
       "      <td>13.0</td>\n",
       "      <td>17.0</td>\n",
       "      <td>16.25</td>\n",
       "      <td>FedEx</td>\n",
       "      <td>FedEx Home Delivery (FedEx Ground Service)</td>\n",
       "      <td>62.0</td>\n",
       "      <td>0</td>\n",
       "    </tr>\n",
       "  </tbody>\n",
       "</table>\n",
       "</div>"
      ],
      "text/plain": [
       "   Unnamed: 0  vended_id  date_trans               vendor_name  \\\n",
       "0           0   93434534  2020-12-27                   JCW API   \n",
       "1           2   93455745  2020-12-27  US Auto Parts Nevada API   \n",
       "\n",
       "        productText              sku  zone_code delivery_state  length  width  \\\n",
       "0     Bumper Grille  003510TR1530003          5             NY    61.0   14.0   \n",
       "1  Window Regulator  7194GPERG491702          8             FL    28.0   18.0   \n",
       "\n",
       "   height  charged_weight  freight_cost carrier  \\\n",
       "0     4.0             9.0         19.33   FedEx   \n",
       "1    13.0            17.0         16.25   FedEx   \n",
       "\n",
       "                                 service_type  girth  unauthorized  \n",
       "0  FedEx Home Delivery (FedEx Ground Service)   36.0             0  \n",
       "1  FedEx Home Delivery (FedEx Ground Service)   62.0             0  "
      ]
     },
     "execution_count": 11,
     "metadata": {},
     "output_type": "execute_result"
    }
   ],
   "source": [
    "dframe.head(2)"
   ]
  },
  {
   "cell_type": "code",
   "execution_count": 12,
   "id": "d8c30c42",
   "metadata": {},
   "outputs": [],
   "source": [
    "dframe.loc[(dframe[\"length\"] > 108.0) & (dframe[\"length\"]+dframe[\"girth\"] > 165.0), \"unauthorized\"] = 1\n",
    "#dframe[\"unauthorized\"] = "
   ]
  },
  {
   "cell_type": "code",
   "execution_count": 13,
   "id": "e33a248f",
   "metadata": {},
   "outputs": [
    {
     "data": {
      "text/plain": [
       "(12, 17)"
      ]
     },
     "execution_count": 13,
     "metadata": {},
     "output_type": "execute_result"
    }
   ],
   "source": [
    "dframe[dframe[\"unauthorized\"] == 1].shape"
   ]
  },
  {
   "cell_type": "code",
   "execution_count": 14,
   "id": "5efe4dec",
   "metadata": {},
   "outputs": [],
   "source": [
    "dframe[\"week\"] = (pd.to_datetime(dframe[\"date_trans\"], errors ='coerce')).dt.isocalendar().week"
   ]
  },
  {
   "cell_type": "code",
   "execution_count": 15,
   "id": "cba2bd89",
   "metadata": {},
   "outputs": [],
   "source": [
    "dframe[\"week\"] = dframe[\"week\"] + 1"
   ]
  },
  {
   "cell_type": "code",
   "execution_count": 16,
   "id": "671cec4e",
   "metadata": {},
   "outputs": [],
   "source": [
    "#dframe[dframe[\"week\"] == 54,\"week\"] = 1 \n",
    "dframe.loc[dframe[\"week\"] == 54,\"week\"] = 1"
   ]
  },
  {
   "cell_type": "code",
   "execution_count": 17,
   "id": "a673445c",
   "metadata": {},
   "outputs": [
    {
     "data": {
      "text/plain": [
       "<IntegerArray>\n",
       "[53, 1, 2, 3, 4, 5, 6, 7, 8, 9, 10, 11, 12, 13, 14, 15, 16, 17, 18, 19]\n",
       "Length: 20, dtype: UInt32"
      ]
     },
     "execution_count": 17,
     "metadata": {},
     "output_type": "execute_result"
    }
   ],
   "source": [
    "dframe[\"week\"].unique()"
   ]
  },
  {
   "cell_type": "code",
   "execution_count": 18,
   "id": "85cfd20d",
   "metadata": {},
   "outputs": [
    {
     "data": {
      "text/plain": [
       "33124"
      ]
     },
     "execution_count": 18,
     "metadata": {},
     "output_type": "execute_result"
    }
   ],
   "source": [
    "dframe[dframe[\"week\"] > 18].shape[0]"
   ]
  },
  {
   "cell_type": "code",
   "execution_count": 19,
   "id": "1891ebfc",
   "metadata": {},
   "outputs": [
    {
     "data": {
      "text/plain": [
       "'2020-12-27'"
      ]
     },
     "execution_count": 19,
     "metadata": {},
     "output_type": "execute_result"
    }
   ],
   "source": [
    "dframe[dframe[\"week\"] == 53].date_trans.min()"
   ]
  },
  {
   "cell_type": "code",
   "execution_count": 20,
   "id": "2fd36353",
   "metadata": {},
   "outputs": [
    {
     "data": {
      "text/plain": [
       "'2020-12-27'"
      ]
     },
     "execution_count": 20,
     "metadata": {},
     "output_type": "execute_result"
    }
   ],
   "source": [
    "dframe[dframe[\"week\"] == 53].date_trans.max()"
   ]
  },
  {
   "cell_type": "code",
   "execution_count": null,
   "id": "bf988144",
   "metadata": {},
   "outputs": [],
   "source": []
  },
  {
   "cell_type": "code",
   "execution_count": 21,
   "id": "db74f8a1",
   "metadata": {},
   "outputs": [
    {
     "data": {
      "text/plain": [
       "'2020-12-28'"
      ]
     },
     "execution_count": 21,
     "metadata": {},
     "output_type": "execute_result"
    }
   ],
   "source": [
    "dframe[dframe[\"week\"] == 1].date_trans.min()"
   ]
  },
  {
   "cell_type": "code",
   "execution_count": 22,
   "id": "fe5af20a",
   "metadata": {},
   "outputs": [
    {
     "data": {
      "text/plain": [
       "'2021-01-03'"
      ]
     },
     "execution_count": 22,
     "metadata": {},
     "output_type": "execute_result"
    }
   ],
   "source": [
    "dframe[dframe[\"week\"] == 1].date_trans.max()"
   ]
  },
  {
   "cell_type": "code",
   "execution_count": 23,
   "id": "f69be95b",
   "metadata": {},
   "outputs": [
    {
     "data": {
      "text/html": [
       "<div>\n",
       "<style scoped>\n",
       "    .dataframe tbody tr th:only-of-type {\n",
       "        vertical-align: middle;\n",
       "    }\n",
       "\n",
       "    .dataframe tbody tr th {\n",
       "        vertical-align: top;\n",
       "    }\n",
       "\n",
       "    .dataframe thead th {\n",
       "        text-align: right;\n",
       "    }\n",
       "</style>\n",
       "<table border=\"1\" class=\"dataframe\">\n",
       "  <thead>\n",
       "    <tr style=\"text-align: right;\">\n",
       "      <th></th>\n",
       "      <th>week</th>\n",
       "      <th>unauthorized</th>\n",
       "    </tr>\n",
       "  </thead>\n",
       "  <tbody>\n",
       "    <tr>\n",
       "      <th>0</th>\n",
       "      <td>1</td>\n",
       "      <td>0</td>\n",
       "    </tr>\n",
       "    <tr>\n",
       "      <th>1</th>\n",
       "      <td>2</td>\n",
       "      <td>0</td>\n",
       "    </tr>\n",
       "    <tr>\n",
       "      <th>2</th>\n",
       "      <td>3</td>\n",
       "      <td>0</td>\n",
       "    </tr>\n",
       "    <tr>\n",
       "      <th>3</th>\n",
       "      <td>4</td>\n",
       "      <td>0</td>\n",
       "    </tr>\n",
       "    <tr>\n",
       "      <th>4</th>\n",
       "      <td>5</td>\n",
       "      <td>0</td>\n",
       "    </tr>\n",
       "    <tr>\n",
       "      <th>5</th>\n",
       "      <td>6</td>\n",
       "      <td>1</td>\n",
       "    </tr>\n",
       "    <tr>\n",
       "      <th>6</th>\n",
       "      <td>7</td>\n",
       "      <td>1</td>\n",
       "    </tr>\n",
       "    <tr>\n",
       "      <th>7</th>\n",
       "      <td>8</td>\n",
       "      <td>1</td>\n",
       "    </tr>\n",
       "    <tr>\n",
       "      <th>8</th>\n",
       "      <td>9</td>\n",
       "      <td>1</td>\n",
       "    </tr>\n",
       "    <tr>\n",
       "      <th>9</th>\n",
       "      <td>10</td>\n",
       "      <td>2</td>\n",
       "    </tr>\n",
       "    <tr>\n",
       "      <th>10</th>\n",
       "      <td>11</td>\n",
       "      <td>0</td>\n",
       "    </tr>\n",
       "    <tr>\n",
       "      <th>11</th>\n",
       "      <td>12</td>\n",
       "      <td>0</td>\n",
       "    </tr>\n",
       "    <tr>\n",
       "      <th>12</th>\n",
       "      <td>13</td>\n",
       "      <td>0</td>\n",
       "    </tr>\n",
       "    <tr>\n",
       "      <th>13</th>\n",
       "      <td>14</td>\n",
       "      <td>4</td>\n",
       "    </tr>\n",
       "    <tr>\n",
       "      <th>14</th>\n",
       "      <td>15</td>\n",
       "      <td>0</td>\n",
       "    </tr>\n",
       "    <tr>\n",
       "      <th>15</th>\n",
       "      <td>16</td>\n",
       "      <td>0</td>\n",
       "    </tr>\n",
       "    <tr>\n",
       "      <th>16</th>\n",
       "      <td>17</td>\n",
       "      <td>0</td>\n",
       "    </tr>\n",
       "    <tr>\n",
       "      <th>17</th>\n",
       "      <td>18</td>\n",
       "      <td>0</td>\n",
       "    </tr>\n",
       "    <tr>\n",
       "      <th>18</th>\n",
       "      <td>19</td>\n",
       "      <td>2</td>\n",
       "    </tr>\n",
       "    <tr>\n",
       "      <th>19</th>\n",
       "      <td>53</td>\n",
       "      <td>0</td>\n",
       "    </tr>\n",
       "  </tbody>\n",
       "</table>\n",
       "</div>"
      ],
      "text/plain": [
       "    week  unauthorized\n",
       "0      1             0\n",
       "1      2             0\n",
       "2      3             0\n",
       "3      4             0\n",
       "4      5             0\n",
       "5      6             1\n",
       "6      7             1\n",
       "7      8             1\n",
       "8      9             1\n",
       "9     10             2\n",
       "10    11             0\n",
       "11    12             0\n",
       "12    13             0\n",
       "13    14             4\n",
       "14    15             0\n",
       "15    16             0\n",
       "16    17             0\n",
       "17    18             0\n",
       "18    19             2\n",
       "19    53             0"
      ]
     },
     "execution_count": 23,
     "metadata": {},
     "output_type": "execute_result"
    }
   ],
   "source": [
    "dframe.groupby('week') \\\n",
    "       .agg({'unauthorized':'sum'}) \\\n",
    "       .reset_index()"
   ]
  },
  {
   "cell_type": "code",
   "execution_count": 24,
   "id": "c63e9387",
   "metadata": {},
   "outputs": [],
   "source": [
    "#dframe.groupby(\"week\")[\"unauthorized\"].sum()"
   ]
  },
  {
   "cell_type": "code",
   "execution_count": 25,
   "id": "6eb91e0f",
   "metadata": {},
   "outputs": [
    {
     "data": {
      "text/plain": [
       "0.631578947368421"
      ]
     },
     "execution_count": 25,
     "metadata": {},
     "output_type": "execute_result"
    }
   ],
   "source": [
    "### 1 ####\n",
    "dframe[dframe[\"unauthorized\"]==1].shape[0]/19"
   ]
  },
  {
   "cell_type": "code",
   "execution_count": 26,
   "id": "d9659762",
   "metadata": {},
   "outputs": [],
   "source": [
    "#$$$$$$$$$$$$$$$$$$$$$$$$$$$$$$$$$$$$$$$$$$$$$$$$$$$$$\n",
    "#$$$$$$$$$$$$$$$$$$$$$$$$$$$$\n",
    "#$$$$$$$$$$$$$"
   ]
  },
  {
   "cell_type": "code",
   "execution_count": 27,
   "id": "65ffa393",
   "metadata": {},
   "outputs": [],
   "source": [
    "dframe[\"oversized\"] = 0"
   ]
  },
  {
   "cell_type": "code",
   "execution_count": 28,
   "id": "0ccee8a0",
   "metadata": {},
   "outputs": [],
   "source": [
    "dframe.loc[(dframe[\"length\"] <= 108.0) & (dframe[\"length\"] > 96.0) &\n",
    "           (dframe[\"length\"]+dframe[\"girth\"] <= 165.0) & (dframe[\"length\"]+dframe[\"girth\"] > 130.0)\n",
    "           , \"oversized\"] = 1"
   ]
  },
  {
   "cell_type": "code",
   "execution_count": 29,
   "id": "8393d3dd",
   "metadata": {},
   "outputs": [
    {
     "data": {
      "text/plain": [
       "(13, 19)"
      ]
     },
     "execution_count": 29,
     "metadata": {},
     "output_type": "execute_result"
    }
   ],
   "source": [
    "dframe[dframe[\"oversized\"] == 1].shape"
   ]
  },
  {
   "cell_type": "code",
   "execution_count": 30,
   "id": "a9f0bd23",
   "metadata": {},
   "outputs": [
    {
     "data": {
      "text/html": [
       "<div>\n",
       "<style scoped>\n",
       "    .dataframe tbody tr th:only-of-type {\n",
       "        vertical-align: middle;\n",
       "    }\n",
       "\n",
       "    .dataframe tbody tr th {\n",
       "        vertical-align: top;\n",
       "    }\n",
       "\n",
       "    .dataframe thead th {\n",
       "        text-align: right;\n",
       "    }\n",
       "</style>\n",
       "<table border=\"1\" class=\"dataframe\">\n",
       "  <thead>\n",
       "    <tr style=\"text-align: right;\">\n",
       "      <th></th>\n",
       "      <th>week</th>\n",
       "      <th>unauthorized</th>\n",
       "    </tr>\n",
       "  </thead>\n",
       "  <tbody>\n",
       "    <tr>\n",
       "      <th>0</th>\n",
       "      <td>1</td>\n",
       "      <td>0</td>\n",
       "    </tr>\n",
       "    <tr>\n",
       "      <th>1</th>\n",
       "      <td>2</td>\n",
       "      <td>0</td>\n",
       "    </tr>\n",
       "    <tr>\n",
       "      <th>2</th>\n",
       "      <td>3</td>\n",
       "      <td>0</td>\n",
       "    </tr>\n",
       "    <tr>\n",
       "      <th>3</th>\n",
       "      <td>4</td>\n",
       "      <td>0</td>\n",
       "    </tr>\n",
       "    <tr>\n",
       "      <th>4</th>\n",
       "      <td>5</td>\n",
       "      <td>0</td>\n",
       "    </tr>\n",
       "    <tr>\n",
       "      <th>5</th>\n",
       "      <td>6</td>\n",
       "      <td>1</td>\n",
       "    </tr>\n",
       "    <tr>\n",
       "      <th>6</th>\n",
       "      <td>7</td>\n",
       "      <td>1</td>\n",
       "    </tr>\n",
       "    <tr>\n",
       "      <th>7</th>\n",
       "      <td>8</td>\n",
       "      <td>1</td>\n",
       "    </tr>\n",
       "    <tr>\n",
       "      <th>8</th>\n",
       "      <td>9</td>\n",
       "      <td>1</td>\n",
       "    </tr>\n",
       "    <tr>\n",
       "      <th>9</th>\n",
       "      <td>10</td>\n",
       "      <td>2</td>\n",
       "    </tr>\n",
       "    <tr>\n",
       "      <th>10</th>\n",
       "      <td>11</td>\n",
       "      <td>0</td>\n",
       "    </tr>\n",
       "    <tr>\n",
       "      <th>11</th>\n",
       "      <td>12</td>\n",
       "      <td>0</td>\n",
       "    </tr>\n",
       "    <tr>\n",
       "      <th>12</th>\n",
       "      <td>13</td>\n",
       "      <td>0</td>\n",
       "    </tr>\n",
       "    <tr>\n",
       "      <th>13</th>\n",
       "      <td>14</td>\n",
       "      <td>4</td>\n",
       "    </tr>\n",
       "    <tr>\n",
       "      <th>14</th>\n",
       "      <td>15</td>\n",
       "      <td>0</td>\n",
       "    </tr>\n",
       "    <tr>\n",
       "      <th>15</th>\n",
       "      <td>16</td>\n",
       "      <td>0</td>\n",
       "    </tr>\n",
       "    <tr>\n",
       "      <th>16</th>\n",
       "      <td>17</td>\n",
       "      <td>0</td>\n",
       "    </tr>\n",
       "    <tr>\n",
       "      <th>17</th>\n",
       "      <td>18</td>\n",
       "      <td>0</td>\n",
       "    </tr>\n",
       "    <tr>\n",
       "      <th>18</th>\n",
       "      <td>19</td>\n",
       "      <td>2</td>\n",
       "    </tr>\n",
       "    <tr>\n",
       "      <th>19</th>\n",
       "      <td>53</td>\n",
       "      <td>0</td>\n",
       "    </tr>\n",
       "  </tbody>\n",
       "</table>\n",
       "</div>"
      ],
      "text/plain": [
       "    week  unauthorized\n",
       "0      1             0\n",
       "1      2             0\n",
       "2      3             0\n",
       "3      4             0\n",
       "4      5             0\n",
       "5      6             1\n",
       "6      7             1\n",
       "7      8             1\n",
       "8      9             1\n",
       "9     10             2\n",
       "10    11             0\n",
       "11    12             0\n",
       "12    13             0\n",
       "13    14             4\n",
       "14    15             0\n",
       "15    16             0\n",
       "16    17             0\n",
       "17    18             0\n",
       "18    19             2\n",
       "19    53             0"
      ]
     },
     "execution_count": 30,
     "metadata": {},
     "output_type": "execute_result"
    }
   ],
   "source": [
    "dframe.groupby('week') \\\n",
    "       .agg({'unauthorized':'sum'}) \\\n",
    "       .reset_index()"
   ]
  },
  {
   "cell_type": "code",
   "execution_count": 31,
   "id": "6969e764",
   "metadata": {},
   "outputs": [
    {
     "data": {
      "text/plain": [
       "0.6842105263157895"
      ]
     },
     "execution_count": 31,
     "metadata": {},
     "output_type": "execute_result"
    }
   ],
   "source": [
    "### 2 ####\n",
    "dframe[dframe[\"oversized\"]==1].shape[0]/19"
   ]
  },
  {
   "cell_type": "code",
   "execution_count": 32,
   "id": "5cfe45c3",
   "metadata": {},
   "outputs": [
    {
     "data": {
      "image/png": "[encoded data removed]",
      "text/plain": [
       "<Figure size 576x864 with 1 Axes>"
      ]
     },
     "metadata": {
      "needs_background": "light"
     },
     "output_type": "display_data"
    }
   ],
   "source": [
    "\n",
    "oversized = dframe.groupby('week')['oversized'].sum()\n",
    "unauthorized = dframe.groupby('week')['unauthorized'].sum()\n",
    "\n",
    "irregular_df = pd.DataFrame({'oversized': oversized,'unauthorized':unauthorized})\n",
    "ax = irregular_df.plot(kind='barh', figsize=(8,12));\n",
    "#ax.set_xticklabels(fontsize=20)\n",
    "\n",
    "ax.set_xlabel('Total Number')\n",
    "ax.set_xticks(np.arange(0, 5, 1))\n",
    "ax.set_title('The number of orders shipped as oversized vs unauthorized');"
   ]
  },
  {
   "cell_type": "code",
   "execution_count": 33,
   "id": "758e3012",
   "metadata": {},
   "outputs": [],
   "source": [
    "#$$$$$$$$$$$$$$$$$$$$$$$$$$$$$$$$$$$$$$$$$$$$$$$$$$$$$\n",
    "#$$$$$$$$$$$$$$$$$$$$$$$$$$$$\n",
    "#$$$$$$$$$$$$$"
   ]
  },
  {
   "cell_type": "code",
   "execution_count": 34,
   "id": "219aaf89",
   "metadata": {},
   "outputs": [],
   "source": [
    "#dframe['week'] = dframe['week'].dt.week"
   ]
  },
  {
   "cell_type": "code",
   "execution_count": 35,
   "id": "ba5a4a7f",
   "metadata": {},
   "outputs": [],
   "source": [
    "#dframe.head(2)"
   ]
  },
  {
   "cell_type": "code",
   "execution_count": 36,
   "id": "d3935298",
   "metadata": {},
   "outputs": [],
   "source": [
    "#dframe[dframe[\"week\"]==1].head(1)"
   ]
  },
  {
   "cell_type": "code",
   "execution_count": 37,
   "id": "767f1a44",
   "metadata": {},
   "outputs": [],
   "source": [
    "#dframe[dframe[\"week\"]==2].head(2)"
   ]
  },
  {
   "cell_type": "code",
   "execution_count": 38,
   "id": "4b4d0702",
   "metadata": {},
   "outputs": [],
   "source": [
    "#dframe.groupby('week') \\\n",
    "#       .agg({'unauthorized':'sum'}) \\\n",
    "#dframe.groupby(\"week\")[\"unauthorized\"].sum()"
   ]
  },
  {
   "cell_type": "code",
   "execution_count": 39,
   "id": "289cad14",
   "metadata": {},
   "outputs": [
    {
     "data": {
      "text/plain": [
       "'\\ndef plot_frequency(subset, group, x_title=\"Number of Packages\", y_title=\"Subscription status\"):\\n    ax = dframe.groupby(group)[subset].sum().plot(\\n                                kind=\\'barh\\', figsize=(8,5), \\n                                title=\\'Number of unique users per category\\');\\n    ax.set_xlabel(x_title);\\n    #ax.set_yticklabels(labels, rotation=0)\\n    ax.set_ylabel(y_title);\\n'"
      ]
     },
     "execution_count": 39,
     "metadata": {},
     "output_type": "execute_result"
    }
   ],
   "source": [
    "'''\n",
    "def plot_frequency(subset, group, x_title=\"Number of Packages\", y_title=\"Subscription status\"):\n",
    "    ax = dframe.groupby(group)[subset].sum().plot(\n",
    "                                kind='barh', figsize=(8,5), \n",
    "                                title='Number of unique users per category');\n",
    "    ax.set_xlabel(x_title);\n",
    "    #ax.set_yticklabels(labels, rotation=0)\n",
    "    ax.set_ylabel(y_title);\n",
    "'''\n",
    "# Test    \n",
    "#plot_frequency(['userId'], ['churn'], ['Active', 'Cancelled'])"
   ]
  },
  {
   "cell_type": "code",
   "execution_count": 40,
   "id": "7777cb25",
   "metadata": {},
   "outputs": [],
   "source": [
    "#dframe.groupby(\"week\")[\"unauthorized\"].sum()"
   ]
  },
  {
   "cell_type": "code",
   "execution_count": 41,
   "id": "6521b085",
   "metadata": {},
   "outputs": [],
   "source": [
    "# (subset, group, labels, x_title=\"Number of users\", y_title=\"Subscription status\"):\n",
    "\n",
    "#plot_frequency(['unauthorized'], ['week'])"
   ]
  },
  {
   "cell_type": "code",
   "execution_count": 42,
   "id": "f66c0aa9",
   "metadata": {},
   "outputs": [],
   "source": [
    "#dframe.groupby('week') \\\n",
    "#       .agg({'oversized':'sum'}) \\\n",
    "#       .reset_index()"
   ]
  },
  {
   "cell_type": "code",
   "execution_count": 43,
   "id": "89f3d75d",
   "metadata": {},
   "outputs": [
    {
     "data": {
      "text/plain": [
       "648"
      ]
     },
     "execution_count": 43,
     "metadata": {},
     "output_type": "execute_result"
    }
   ],
   "source": [
    "dframe.productText.nunique()"
   ]
  },
  {
   "cell_type": "code",
   "execution_count": 44,
   "id": "35bc0911",
   "metadata": {},
   "outputs": [],
   "source": [
    "\n",
    "#dframe.groupby(\"week\")[\"oversized\"].agg(\"sum\")"
   ]
  },
  {
   "cell_type": "code",
   "execution_count": 45,
   "id": "23fe5a7a",
   "metadata": {},
   "outputs": [],
   "source": [
    "#plot_frequency(['oversized'], ['week'])"
   ]
  },
  {
   "cell_type": "code",
   "execution_count": 46,
   "id": "5cbb491b",
   "metadata": {},
   "outputs": [
    {
     "data": {
      "text/plain": [
       "array(['JCW API', 'US Auto Parts Nevada API',\n",
       "       'US Auto Parts Virginia API', 'Carparts GPT API',\n",
       "       'US Auto Parts PERU API', 'Carparts PA API'], dtype=object)"
      ]
     },
     "execution_count": 46,
     "metadata": {},
     "output_type": "execute_result"
    }
   ],
   "source": [
    "dframe.vendor_name.unique()"
   ]
  },
  {
   "cell_type": "code",
   "execution_count": 47,
   "id": "167c6da2",
   "metadata": {},
   "outputs": [
    {
     "data": {
      "text/html": [
       "<div>\n",
       "<style scoped>\n",
       "    .dataframe tbody tr th:only-of-type {\n",
       "        vertical-align: middle;\n",
       "    }\n",
       "\n",
       "    .dataframe tbody tr th {\n",
       "        vertical-align: top;\n",
       "    }\n",
       "\n",
       "    .dataframe thead th {\n",
       "        text-align: right;\n",
       "    }\n",
       "</style>\n",
       "<table border=\"1\" class=\"dataframe\">\n",
       "  <thead>\n",
       "    <tr style=\"text-align: right;\">\n",
       "      <th></th>\n",
       "      <th>vendor_name</th>\n",
       "      <th>oversized</th>\n",
       "    </tr>\n",
       "  </thead>\n",
       "  <tbody>\n",
       "    <tr>\n",
       "      <th>0</th>\n",
       "      <td>Carparts GPT API</td>\n",
       "      <td>0</td>\n",
       "    </tr>\n",
       "    <tr>\n",
       "      <th>1</th>\n",
       "      <td>Carparts PA API</td>\n",
       "      <td>0</td>\n",
       "    </tr>\n",
       "    <tr>\n",
       "      <th>2</th>\n",
       "      <td>JCW API</td>\n",
       "      <td>5</td>\n",
       "    </tr>\n",
       "    <tr>\n",
       "      <th>3</th>\n",
       "      <td>US Auto Parts Nevada API</td>\n",
       "      <td>0</td>\n",
       "    </tr>\n",
       "    <tr>\n",
       "      <th>4</th>\n",
       "      <td>US Auto Parts PERU API</td>\n",
       "      <td>0</td>\n",
       "    </tr>\n",
       "    <tr>\n",
       "      <th>5</th>\n",
       "      <td>US Auto Parts Virginia API</td>\n",
       "      <td>8</td>\n",
       "    </tr>\n",
       "  </tbody>\n",
       "</table>\n",
       "</div>"
      ],
      "text/plain": [
       "                  vendor_name  oversized\n",
       "0            Carparts GPT API          0\n",
       "1             Carparts PA API          0\n",
       "2                     JCW API          5\n",
       "3    US Auto Parts Nevada API          0\n",
       "4      US Auto Parts PERU API          0\n",
       "5  US Auto Parts Virginia API          8"
      ]
     },
     "execution_count": 47,
     "metadata": {},
     "output_type": "execute_result"
    }
   ],
   "source": [
    "#### 3  ####\n",
    "#dframe.groupby(\"vendor_name\")[\"oversized\"].agg(\"sum\")\n",
    "dframe.groupby('vendor_name') \\\n",
    "       .agg({'oversized':'sum'}) \\\n",
    "       .reset_index()"
   ]
  },
  {
   "cell_type": "code",
   "execution_count": 48,
   "id": "74841006",
   "metadata": {},
   "outputs": [],
   "source": [
    "#plot_frequency(['oversized'], ['vendor_name'])"
   ]
  },
  {
   "cell_type": "code",
   "execution_count": 49,
   "id": "94f66e21",
   "metadata": {},
   "outputs": [
    {
     "data": {
      "text/html": [
       "<div>\n",
       "<style scoped>\n",
       "    .dataframe tbody tr th:only-of-type {\n",
       "        vertical-align: middle;\n",
       "    }\n",
       "\n",
       "    .dataframe tbody tr th {\n",
       "        vertical-align: top;\n",
       "    }\n",
       "\n",
       "    .dataframe thead th {\n",
       "        text-align: right;\n",
       "    }\n",
       "</style>\n",
       "<table border=\"1\" class=\"dataframe\">\n",
       "  <thead>\n",
       "    <tr style=\"text-align: right;\">\n",
       "      <th></th>\n",
       "      <th>vendor_name</th>\n",
       "      <th>unauthorized</th>\n",
       "    </tr>\n",
       "  </thead>\n",
       "  <tbody>\n",
       "    <tr>\n",
       "      <th>0</th>\n",
       "      <td>Carparts GPT API</td>\n",
       "      <td>0</td>\n",
       "    </tr>\n",
       "    <tr>\n",
       "      <th>1</th>\n",
       "      <td>Carparts PA API</td>\n",
       "      <td>0</td>\n",
       "    </tr>\n",
       "    <tr>\n",
       "      <th>2</th>\n",
       "      <td>JCW API</td>\n",
       "      <td>2</td>\n",
       "    </tr>\n",
       "    <tr>\n",
       "      <th>3</th>\n",
       "      <td>US Auto Parts Nevada API</td>\n",
       "      <td>0</td>\n",
       "    </tr>\n",
       "    <tr>\n",
       "      <th>4</th>\n",
       "      <td>US Auto Parts PERU API</td>\n",
       "      <td>1</td>\n",
       "    </tr>\n",
       "    <tr>\n",
       "      <th>5</th>\n",
       "      <td>US Auto Parts Virginia API</td>\n",
       "      <td>9</td>\n",
       "    </tr>\n",
       "  </tbody>\n",
       "</table>\n",
       "</div>"
      ],
      "text/plain": [
       "                  vendor_name  unauthorized\n",
       "0            Carparts GPT API             0\n",
       "1             Carparts PA API             0\n",
       "2                     JCW API             2\n",
       "3    US Auto Parts Nevada API             0\n",
       "4      US Auto Parts PERU API             1\n",
       "5  US Auto Parts Virginia API             9"
      ]
     },
     "execution_count": 49,
     "metadata": {},
     "output_type": "execute_result"
    }
   ],
   "source": [
    "#### 3 ####\n",
    "#dframe.groupby(\"vendor_name\")[\"unauthorized\"].agg(\"sum\")\n",
    "dframe.groupby('vendor_name') \\\n",
    "       .agg({'unauthorized':'sum'}) \\\n",
    "       .reset_index()"
   ]
  },
  {
   "cell_type": "code",
   "execution_count": 50,
   "id": "868b9638",
   "metadata": {},
   "outputs": [],
   "source": [
    "#plot_frequency(['unauthorized'], ['vendor_name'])"
   ]
  },
  {
   "cell_type": "code",
   "execution_count": 51,
   "id": "b1c27a39",
   "metadata": {},
   "outputs": [
    {
     "data": {
      "image/png": "[encoded data removed]",
      "text/plain": [
       "<Figure size 576x720 with 1 Axes>"
      ]
     },
     "metadata": {
      "needs_background": "light"
     },
     "output_type": "display_data"
    }
   ],
   "source": [
    "### 3\n",
    "oversizedVender = dframe.groupby('vendor_name')['oversized'].sum()\n",
    "unauthorizedVender = dframe.groupby('vendor_name')['unauthorized'].sum()\n",
    "\n",
    "vender_df = pd.DataFrame({'oversized': oversizedVender,'unauthorized':unauthorizedVender})\n",
    "\n",
    "ax = vender_df.plot(kind='barh', figsize=(8,10));\n",
    "ax.set_xlabel('Total Number')\n",
    "ax.set_title('Number of ship packeges shiped as oversized vs unauthorized');"
   ]
  },
  {
   "cell_type": "code",
   "execution_count": 52,
   "id": "b5084648",
   "metadata": {},
   "outputs": [],
   "source": [
    "#$$$$$$$$$$$$$$$$$$$$$$$$$$$$$$$$$$$$$$$$$$$$$$$$$$$$$\n",
    "#$$$$$$$$$$$$$$$$$$$$$$$$$$$$\n",
    "#$$$$$$$$$$$$$"
   ]
  },
  {
   "cell_type": "code",
   "execution_count": 53,
   "id": "0afa6d72",
   "metadata": {},
   "outputs": [],
   "source": [
    "dframe[\"dimWeight\"] = (dframe[\"length\"]*dframe[\"width\"]*dframe[\"height\"]/400).apply(np.ceil)"
   ]
  },
  {
   "cell_type": "code",
   "execution_count": 54,
   "id": "aed5abda",
   "metadata": {},
   "outputs": [
    {
     "data": {
      "text/html": [
       "<div>\n",
       "<style scoped>\n",
       "    .dataframe tbody tr th:only-of-type {\n",
       "        vertical-align: middle;\n",
       "    }\n",
       "\n",
       "    .dataframe tbody tr th {\n",
       "        vertical-align: top;\n",
       "    }\n",
       "\n",
       "    .dataframe thead th {\n",
       "        text-align: right;\n",
       "    }\n",
       "</style>\n",
       "<table border=\"1\" class=\"dataframe\">\n",
       "  <thead>\n",
       "    <tr style=\"text-align: right;\">\n",
       "      <th></th>\n",
       "      <th>dimWeight</th>\n",
       "      <th>zone_code</th>\n",
       "    </tr>\n",
       "  </thead>\n",
       "  <tbody>\n",
       "    <tr>\n",
       "      <th>216607</th>\n",
       "      <td>51.0</td>\n",
       "      <td>5</td>\n",
       "    </tr>\n",
       "    <tr>\n",
       "      <th>342959</th>\n",
       "      <td>40.0</td>\n",
       "      <td>4</td>\n",
       "    </tr>\n",
       "    <tr>\n",
       "      <th>448019</th>\n",
       "      <td>24.0</td>\n",
       "      <td>5</td>\n",
       "    </tr>\n",
       "    <tr>\n",
       "      <th>537329</th>\n",
       "      <td>35.0</td>\n",
       "      <td>8</td>\n",
       "    </tr>\n",
       "  </tbody>\n",
       "</table>\n",
       "</div>"
      ],
      "text/plain": [
       "        dimWeight  zone_code\n",
       "216607       51.0          5\n",
       "342959       40.0          4\n",
       "448019       24.0          5\n",
       "537329       35.0          8"
      ]
     },
     "execution_count": 54,
     "metadata": {},
     "output_type": "execute_result"
    }
   ],
   "source": [
    "#adult_names = titanic.loc[titanic[\"Age\"] > 35, \"Name\"]\n",
    "dframe.loc[(dframe[\"productText\"]==\"Muffler\") & \n",
    "           (dframe[\"oversized\"] == 1)\n",
    "           ,[\"dimWeight\",\"zone_code\"]]"
   ]
  },
  {
   "cell_type": "code",
   "execution_count": 55,
   "id": "2eeef979",
   "metadata": {},
   "outputs": [],
   "source": [
    "dframe[\"unauthAndOver\"] = dframe[\"unauthorized\"] + dframe[\"oversized\"]"
   ]
  },
  {
   "cell_type": "code",
   "execution_count": 56,
   "id": "50b82176",
   "metadata": {},
   "outputs": [
    {
     "data": {
      "text/plain": [
       "40870     Driveshaft\n",
       "177692    Driveshaft\n",
       "181830    Driveshaft\n",
       "197279    Driveshaft\n",
       "212264    Driveshaft\n",
       "216607       Muffler\n",
       "282584    Driveshaft\n",
       "342765    Driveshaft\n",
       "342959       Muffler\n",
       "353944    Driveshaft\n",
       "431206    Driveshaft\n",
       "448019       Muffler\n",
       "537329       Muffler\n",
       "Name: productText, dtype: object"
      ]
     },
     "execution_count": 56,
     "metadata": {},
     "output_type": "execute_result"
    }
   ],
   "source": [
    "dframe.loc[dframe[\"oversized\"] == 1,\"productText\"]"
   ]
  },
  {
   "cell_type": "code",
   "execution_count": 57,
   "id": "69d5fb1c",
   "metadata": {},
   "outputs": [
    {
     "data": {
      "text/html": [
       "<div>\n",
       "<style scoped>\n",
       "    .dataframe tbody tr th:only-of-type {\n",
       "        vertical-align: middle;\n",
       "    }\n",
       "\n",
       "    .dataframe tbody tr th {\n",
       "        vertical-align: top;\n",
       "    }\n",
       "\n",
       "    .dataframe thead th {\n",
       "        text-align: right;\n",
       "    }\n",
       "</style>\n",
       "<table border=\"1\" class=\"dataframe\">\n",
       "  <thead>\n",
       "    <tr style=\"text-align: right;\">\n",
       "      <th></th>\n",
       "      <th>length</th>\n",
       "      <th>width</th>\n",
       "      <th>height</th>\n",
       "      <th>charged_weight</th>\n",
       "      <th>dimWeight</th>\n",
       "      <th>freight_cost</th>\n",
       "      <th>unauthAndOver</th>\n",
       "    </tr>\n",
       "  </thead>\n",
       "  <tbody>\n",
       "    <tr>\n",
       "      <th>0</th>\n",
       "      <td>61.0</td>\n",
       "      <td>14.0</td>\n",
       "      <td>4.0</td>\n",
       "      <td>9.0</td>\n",
       "      <td>9.0</td>\n",
       "      <td>19.33</td>\n",
       "      <td>0</td>\n",
       "    </tr>\n",
       "    <tr>\n",
       "      <th>1</th>\n",
       "      <td>28.0</td>\n",
       "      <td>18.0</td>\n",
       "      <td>13.0</td>\n",
       "      <td>17.0</td>\n",
       "      <td>17.0</td>\n",
       "      <td>16.25</td>\n",
       "      <td>0</td>\n",
       "    </tr>\n",
       "    <tr>\n",
       "      <th>2</th>\n",
       "      <td>39.0</td>\n",
       "      <td>26.0</td>\n",
       "      <td>14.0</td>\n",
       "      <td>36.0</td>\n",
       "      <td>36.0</td>\n",
       "      <td>14.80</td>\n",
       "      <td>0</td>\n",
       "    </tr>\n",
       "  </tbody>\n",
       "</table>\n",
       "</div>"
      ],
      "text/plain": [
       "   length  width  height  charged_weight  dimWeight  freight_cost  \\\n",
       "0    61.0   14.0     4.0             9.0        9.0         19.33   \n",
       "1    28.0   18.0    13.0            17.0       17.0         16.25   \n",
       "2    39.0   26.0    14.0            36.0       36.0         14.80   \n",
       "\n",
       "   unauthAndOver  \n",
       "0              0  \n",
       "1              0  \n",
       "2              0  "
      ]
     },
     "execution_count": 57,
     "metadata": {},
     "output_type": "execute_result"
    }
   ],
   "source": [
    "dframe[[\"length\", \"width\",\"height\",\"charged_weight\",\"dimWeight\",\"freight_cost\",\"unauthAndOver\"]].head(3)"
   ]
  },
  {
   "cell_type": "code",
   "execution_count": 58,
   "id": "872e7d80",
   "metadata": {},
   "outputs": [],
   "source": [
    "dftest = dframe[[\"length\", \"width\",\"height\",\"charged_weight\",\"dimWeight\",\"freight_cost\",\"unauthAndOver\"]]"
   ]
  },
  {
   "cell_type": "code",
   "execution_count": 59,
   "id": "7a17f362",
   "metadata": {},
   "outputs": [
    {
     "data": {
      "text/plain": [
       "226448"
      ]
     },
     "execution_count": 59,
     "metadata": {},
     "output_type": "execute_result"
    }
   ],
   "source": [
    "dftest[dftest[\"charged_weight\"] != dftest[\"dimWeight\"]].shape[0]"
   ]
  },
  {
   "cell_type": "code",
   "execution_count": 60,
   "id": "a9d5a365",
   "metadata": {},
   "outputs": [
    {
     "data": {
      "text/plain": [
       "90.0"
      ]
     },
     "execution_count": 60,
     "metadata": {},
     "output_type": "execute_result"
    }
   ],
   "source": [
    "dframe[(dframe[\"oversized\"]== 1) & (dframe[\"unauthAndOver\"] == 1)].freight_cost.mean()\n",
    "dframe[(dframe[\"oversized\"]== 1) & (dframe[\"unauthAndOver\"] == 1)].charged_weight.max()"
   ]
  },
  {
   "cell_type": "code",
   "execution_count": null,
   "id": "81aa9ef0",
   "metadata": {},
   "outputs": [],
   "source": []
  },
  {
   "cell_type": "code",
   "execution_count": null,
   "id": "3042285f",
   "metadata": {},
   "outputs": [],
   "source": []
  },
  {
   "cell_type": "code",
   "execution_count": null,
   "id": "0f388906",
   "metadata": {},
   "outputs": [],
   "source": []
  },
  {
   "cell_type": "code",
   "execution_count": null,
   "id": "c32a792c",
   "metadata": {},
   "outputs": [],
   "source": []
  },
  {
   "cell_type": "code",
   "execution_count": null,
   "id": "a2b72821",
   "metadata": {},
   "outputs": [],
   "source": []
  },
  {
   "cell_type": "code",
   "execution_count": 61,
   "id": "39270adc",
   "metadata": {},
   "outputs": [],
   "source": [
    "### 4 "
   ]
  },
  {
   "cell_type": "code",
   "execution_count": null,
   "id": "cc37d51c",
   "metadata": {},
   "outputs": [],
   "source": []
  },
  {
   "cell_type": "code",
   "execution_count": 62,
   "id": "4f8d1f2e",
   "metadata": {},
   "outputs": [],
   "source": [
    "#$$$$$$$$$$$$$$$$$$$$$$$$$$$$$$$$$$$$$$$$$$$$$$$$$$$$$\n",
    "#$$$$$$$$$$$$$$$$$$$$$$$$$$$$\n",
    "#$$$$$$$$$$$$$"
   ]
  },
  {
   "cell_type": "code",
   "execution_count": 63,
   "id": "fa00070f",
   "metadata": {
    "scrolled": true
   },
   "outputs": [
    {
     "data": {
      "text/html": [
       "<div>\n",
       "<style scoped>\n",
       "    .dataframe tbody tr th:only-of-type {\n",
       "        vertical-align: middle;\n",
       "    }\n",
       "\n",
       "    .dataframe tbody tr th {\n",
       "        vertical-align: top;\n",
       "    }\n",
       "\n",
       "    .dataframe thead th {\n",
       "        text-align: right;\n",
       "    }\n",
       "</style>\n",
       "<table border=\"1\" class=\"dataframe\">\n",
       "  <thead>\n",
       "    <tr style=\"text-align: right;\">\n",
       "      <th></th>\n",
       "      <th>unauthorized</th>\n",
       "      <th>oversized</th>\n",
       "    </tr>\n",
       "    <tr>\n",
       "      <th>productText</th>\n",
       "      <th></th>\n",
       "      <th></th>\n",
       "    </tr>\n",
       "  </thead>\n",
       "  <tbody>\n",
       "    <tr>\n",
       "      <th>Bumper</th>\n",
       "      <td>2</td>\n",
       "      <td>0</td>\n",
       "    </tr>\n",
       "    <tr>\n",
       "      <th>Bumper Cover</th>\n",
       "      <td>2</td>\n",
       "      <td>0</td>\n",
       "    </tr>\n",
       "    <tr>\n",
       "      <th>Driveshaft</th>\n",
       "      <td>0</td>\n",
       "      <td>9</td>\n",
       "    </tr>\n",
       "    <tr>\n",
       "      <th>Engine Splash Shield</th>\n",
       "      <td>1</td>\n",
       "      <td>0</td>\n",
       "    </tr>\n",
       "    <tr>\n",
       "      <th>Grille Assembly</th>\n",
       "      <td>1</td>\n",
       "      <td>0</td>\n",
       "    </tr>\n",
       "    <tr>\n",
       "      <th>Muffler</th>\n",
       "      <td>3</td>\n",
       "      <td>4</td>\n",
       "    </tr>\n",
       "    <tr>\n",
       "      <th>Roll Pan</th>\n",
       "      <td>1</td>\n",
       "      <td>0</td>\n",
       "    </tr>\n",
       "    <tr>\n",
       "      <th>Step Bumper</th>\n",
       "      <td>2</td>\n",
       "      <td>0</td>\n",
       "    </tr>\n",
       "  </tbody>\n",
       "</table>\n",
       "</div>"
      ],
      "text/plain": [
       "                      unauthorized  oversized\n",
       "productText                                  \n",
       "Bumper                           2          0\n",
       "Bumper Cover                     2          0\n",
       "Driveshaft                       0          9\n",
       "Engine Splash Shield             1          0\n",
       "Grille Assembly                  1          0\n",
       "Muffler                          3          4\n",
       "Roll Pan                         1          0\n",
       "Step Bumper                      2          0"
      ]
     },
     "execution_count": 63,
     "metadata": {},
     "output_type": "execute_result"
    }
   ],
   "source": [
    "#### 5 ####\n",
    "dframe[(dframe[\"unauthorized\"] == 1) | (dframe[\"oversized\"] == 1)].groupby(\"productText\")[[\"unauthorized\",\"oversized\"]].sum()"
   ]
  },
  {
   "cell_type": "code",
   "execution_count": 64,
   "id": "2b287261",
   "metadata": {},
   "outputs": [
    {
     "data": {
      "image/png": "[encoded data removed]",
      "text/plain": [
       "<Figure size 576x720 with 1 Axes>"
      ]
     },
     "metadata": {
      "needs_background": "light"
     },
     "output_type": "display_data"
    }
   ],
   "source": [
    "users_1 = dframe[(dframe[\"unauthorized\"] == 1) | (dframe[\"oversized\"] == 1)].groupby('productText')['oversized'].sum()\n",
    "\n",
    "users_0 = dframe[(dframe[\"unauthorized\"] == 1) | (dframe[\"oversized\"] == 1)].groupby('productText')['unauthorized'].sum()\n",
    "\n",
    "users_df = pd.DataFrame({'oversized': users_1,'unauthorized':users_0})\n",
    "ax = users_df.plot(kind='barh', figsize=(8,10));\n",
    "ax.set_xlabel('Total Number')\n",
    "ax.set_title('Common parts that are getting oversized/unauthorized package');"
   ]
  },
  {
   "cell_type": "code",
   "execution_count": null,
   "id": "831c0ae5",
   "metadata": {},
   "outputs": [],
   "source": []
  },
  {
   "cell_type": "code",
   "execution_count": null,
   "id": "6a66af6c",
   "metadata": {},
   "outputs": [],
   "source": []
  },
  {
   "cell_type": "code",
   "execution_count": null,
   "id": "46bf0150",
   "metadata": {},
   "outputs": [],
   "source": []
  },
  {
   "cell_type": "code",
   "execution_count": 65,
   "id": "5874915c",
   "metadata": {},
   "outputs": [
    {
     "data": {
      "text/html": [
       "<div>\n",
       "<style scoped>\n",
       "    .dataframe tbody tr th:only-of-type {\n",
       "        vertical-align: middle;\n",
       "    }\n",
       "\n",
       "    .dataframe tbody tr th {\n",
       "        vertical-align: top;\n",
       "    }\n",
       "\n",
       "    .dataframe thead th {\n",
       "        text-align: right;\n",
       "    }\n",
       "</style>\n",
       "<table border=\"1\" class=\"dataframe\">\n",
       "  <thead>\n",
       "    <tr style=\"text-align: right;\">\n",
       "      <th></th>\n",
       "      <th>dimWeight</th>\n",
       "      <th>zone_code</th>\n",
       "    </tr>\n",
       "  </thead>\n",
       "  <tbody>\n",
       "    <tr>\n",
       "      <th>40870</th>\n",
       "      <td>18.0</td>\n",
       "      <td>5</td>\n",
       "    </tr>\n",
       "    <tr>\n",
       "      <th>177692</th>\n",
       "      <td>13.0</td>\n",
       "      <td>5</td>\n",
       "    </tr>\n",
       "    <tr>\n",
       "      <th>181830</th>\n",
       "      <td>34.0</td>\n",
       "      <td>3</td>\n",
       "    </tr>\n",
       "    <tr>\n",
       "      <th>197279</th>\n",
       "      <td>21.0</td>\n",
       "      <td>4</td>\n",
       "    </tr>\n",
       "    <tr>\n",
       "      <th>212264</th>\n",
       "      <td>23.0</td>\n",
       "      <td>2</td>\n",
       "    </tr>\n",
       "    <tr>\n",
       "      <th>282584</th>\n",
       "      <td>13.0</td>\n",
       "      <td>3</td>\n",
       "    </tr>\n",
       "    <tr>\n",
       "      <th>342765</th>\n",
       "      <td>22.0</td>\n",
       "      <td>4</td>\n",
       "    </tr>\n",
       "    <tr>\n",
       "      <th>353944</th>\n",
       "      <td>17.0</td>\n",
       "      <td>8</td>\n",
       "    </tr>\n",
       "    <tr>\n",
       "      <th>431206</th>\n",
       "      <td>33.0</td>\n",
       "      <td>4</td>\n",
       "    </tr>\n",
       "  </tbody>\n",
       "</table>\n",
       "</div>"
      ],
      "text/plain": [
       "        dimWeight  zone_code\n",
       "40870        18.0          5\n",
       "177692       13.0          5\n",
       "181830       34.0          3\n",
       "197279       21.0          4\n",
       "212264       23.0          2\n",
       "282584       13.0          3\n",
       "342765       22.0          4\n",
       "353944       17.0          8\n",
       "431206       33.0          4"
      ]
     },
     "execution_count": 65,
     "metadata": {},
     "output_type": "execute_result"
    }
   ],
   "source": [
    "dframe.loc[(dframe[\"productText\"]==\"Driveshaft\") & \n",
    "           (dframe[\"oversized\"] == 1)\n",
    "           ,[\"dimWeight\",\"zone_code\"]]"
   ]
  },
  {
   "cell_type": "code",
   "execution_count": null,
   "id": "2de95af1",
   "metadata": {},
   "outputs": [],
   "source": []
  },
  {
   "cell_type": "code",
   "execution_count": 66,
   "id": "89f8b071",
   "metadata": {},
   "outputs": [
    {
     "data": {
      "text/plain": [
       "13"
      ]
     },
     "execution_count": 66,
     "metadata": {},
     "output_type": "execute_result"
    }
   ],
   "source": [
    "dframe[(dframe[\"oversized\"]== 1) & (dframe[\"unauthAndOver\"] == 1)].shape[0]"
   ]
  },
  {
   "cell_type": "code",
   "execution_count": 67,
   "id": "7f0c3db1",
   "metadata": {},
   "outputs": [
    {
     "data": {
      "text/plain": [
       "19.38844467837685"
      ]
     },
     "execution_count": 67,
     "metadata": {},
     "output_type": "execute_result"
    }
   ],
   "source": [
    "#dframe[(dframe[\"oversized\"]== 0) & (dframe[\"unauthAndOver\"] == 0)].charged_weight.mean()\n",
    "dframe[(dframe[\"oversized\"]== 0) & (dframe[\"unauthAndOver\"] == 0)].freight_cost.mean()"
   ]
  },
  {
   "cell_type": "code",
   "execution_count": 68,
   "id": "4040f155",
   "metadata": {},
   "outputs": [
    {
     "data": {
      "text/plain": [
       "274.0"
      ]
     },
     "execution_count": 68,
     "metadata": {},
     "output_type": "execute_result"
    }
   ],
   "source": [
    "dframe[(dframe[\"oversized\"]== 0) & (dframe[\"unauthAndOver\"] == 0)].charged_weight.max()"
   ]
  },
  {
   "cell_type": "code",
   "execution_count": 69,
   "id": "5d17f694",
   "metadata": {},
   "outputs": [
    {
     "data": {
      "text/plain": [
       "584310"
      ]
     },
     "execution_count": 69,
     "metadata": {},
     "output_type": "execute_result"
    }
   ],
   "source": [
    "dframe[(dframe[\"oversized\"]== 0) & (dframe[\"unauthAndOver\"] == 0)].shape[0]"
   ]
  },
  {
   "cell_type": "code",
   "execution_count": 70,
   "id": "1bd1617e",
   "metadata": {},
   "outputs": [],
   "source": [
    "#$$$$$$$$$$$$$$$$$$$$$$$$$$$$$$$$$$$$$$$$$$$$$$$$$$$$$\n",
    "#$$$$$$$$$$$$$$$$$$$$$$$$$$$$\n",
    "#$$$$$$$$$$$$$"
   ]
  },
  {
   "cell_type": "code",
   "execution_count": 71,
   "id": "71702221",
   "metadata": {},
   "outputs": [
    {
     "data": {
      "text/html": [
       "<div>\n",
       "<style scoped>\n",
       "    .dataframe tbody tr th:only-of-type {\n",
       "        vertical-align: middle;\n",
       "    }\n",
       "\n",
       "    .dataframe tbody tr th {\n",
       "        vertical-align: top;\n",
       "    }\n",
       "\n",
       "    .dataframe thead th {\n",
       "        text-align: right;\n",
       "    }\n",
       "</style>\n",
       "<table border=\"1\" class=\"dataframe\">\n",
       "  <thead>\n",
       "    <tr style=\"text-align: right;\">\n",
       "      <th></th>\n",
       "      <th>unauthorized</th>\n",
       "      <th>oversized</th>\n",
       "    </tr>\n",
       "    <tr>\n",
       "      <th>productText</th>\n",
       "      <th></th>\n",
       "      <th></th>\n",
       "    </tr>\n",
       "  </thead>\n",
       "  <tbody>\n",
       "    <tr>\n",
       "      <th>Bumper</th>\n",
       "      <td>2</td>\n",
       "      <td>0</td>\n",
       "    </tr>\n",
       "    <tr>\n",
       "      <th>Bumper Cover</th>\n",
       "      <td>2</td>\n",
       "      <td>0</td>\n",
       "    </tr>\n",
       "    <tr>\n",
       "      <th>Driveshaft</th>\n",
       "      <td>0</td>\n",
       "      <td>9</td>\n",
       "    </tr>\n",
       "    <tr>\n",
       "      <th>Engine Splash Shield</th>\n",
       "      <td>1</td>\n",
       "      <td>0</td>\n",
       "    </tr>\n",
       "    <tr>\n",
       "      <th>Grille Assembly</th>\n",
       "      <td>1</td>\n",
       "      <td>0</td>\n",
       "    </tr>\n",
       "    <tr>\n",
       "      <th>Muffler</th>\n",
       "      <td>3</td>\n",
       "      <td>4</td>\n",
       "    </tr>\n",
       "    <tr>\n",
       "      <th>Roll Pan</th>\n",
       "      <td>1</td>\n",
       "      <td>0</td>\n",
       "    </tr>\n",
       "    <tr>\n",
       "      <th>Step Bumper</th>\n",
       "      <td>2</td>\n",
       "      <td>0</td>\n",
       "    </tr>\n",
       "  </tbody>\n",
       "</table>\n",
       "</div>"
      ],
      "text/plain": [
       "                      unauthorized  oversized\n",
       "productText                                  \n",
       "Bumper                           2          0\n",
       "Bumper Cover                     2          0\n",
       "Driveshaft                       0          9\n",
       "Engine Splash Shield             1          0\n",
       "Grille Assembly                  1          0\n",
       "Muffler                          3          4\n",
       "Roll Pan                         1          0\n",
       "Step Bumper                      2          0"
      ]
     },
     "execution_count": 71,
     "metadata": {},
     "output_type": "execute_result"
    }
   ],
   "source": [
    "#### 6 ####\n",
    "dframe[(dframe[\"unauthorized\"] == 1) | (dframe[\"oversized\"] == 1)].groupby(\"productText\")[[\"unauthorized\",\"oversized\"]].sum()"
   ]
  },
  {
   "cell_type": "code",
   "execution_count": 72,
   "id": "8bcdc706",
   "metadata": {},
   "outputs": [
    {
     "data": {
      "text/html": [
       "<div>\n",
       "<style scoped>\n",
       "    .dataframe tbody tr th:only-of-type {\n",
       "        vertical-align: middle;\n",
       "    }\n",
       "\n",
       "    .dataframe tbody tr th {\n",
       "        vertical-align: top;\n",
       "    }\n",
       "\n",
       "    .dataframe thead th {\n",
       "        text-align: right;\n",
       "    }\n",
       "</style>\n",
       "<table border=\"1\" class=\"dataframe\">\n",
       "  <thead>\n",
       "    <tr style=\"text-align: right;\">\n",
       "      <th></th>\n",
       "      <th>Unnamed: 0</th>\n",
       "      <th>vended_id</th>\n",
       "      <th>date_trans</th>\n",
       "      <th>vendor_name</th>\n",
       "      <th>productText</th>\n",
       "      <th>sku</th>\n",
       "      <th>zone_code</th>\n",
       "      <th>delivery_state</th>\n",
       "      <th>length</th>\n",
       "      <th>width</th>\n",
       "      <th>...</th>\n",
       "      <th>charged_weight</th>\n",
       "      <th>freight_cost</th>\n",
       "      <th>carrier</th>\n",
       "      <th>service_type</th>\n",
       "      <th>girth</th>\n",
       "      <th>unauthorized</th>\n",
       "      <th>week</th>\n",
       "      <th>oversized</th>\n",
       "      <th>dimWeight</th>\n",
       "      <th>unauthAndOver</th>\n",
       "    </tr>\n",
       "  </thead>\n",
       "  <tbody>\n",
       "    <tr>\n",
       "      <th>0</th>\n",
       "      <td>0</td>\n",
       "      <td>93434534</td>\n",
       "      <td>2020-12-27</td>\n",
       "      <td>JCW API</td>\n",
       "      <td>Bumper Grille</td>\n",
       "      <td>003510TR1530003</td>\n",
       "      <td>5</td>\n",
       "      <td>NY</td>\n",
       "      <td>61.0</td>\n",
       "      <td>14.0</td>\n",
       "      <td>...</td>\n",
       "      <td>9.0</td>\n",
       "      <td>19.33</td>\n",
       "      <td>FedEx</td>\n",
       "      <td>FedEx Home Delivery (FedEx Ground Service)</td>\n",
       "      <td>36.0</td>\n",
       "      <td>0</td>\n",
       "      <td>53</td>\n",
       "      <td>0</td>\n",
       "      <td>9.0</td>\n",
       "      <td>0</td>\n",
       "    </tr>\n",
       "  </tbody>\n",
       "</table>\n",
       "<p>1 rows × 21 columns</p>\n",
       "</div>"
      ],
      "text/plain": [
       "   Unnamed: 0  vended_id  date_trans vendor_name    productText  \\\n",
       "0           0   93434534  2020-12-27     JCW API  Bumper Grille   \n",
       "\n",
       "               sku  zone_code delivery_state  length  width  ...  \\\n",
       "0  003510TR1530003          5             NY    61.0   14.0  ...   \n",
       "\n",
       "   charged_weight  freight_cost  carrier  \\\n",
       "0             9.0         19.33    FedEx   \n",
       "\n",
       "                                 service_type girth  unauthorized  week  \\\n",
       "0  FedEx Home Delivery (FedEx Ground Service)  36.0             0    53   \n",
       "\n",
       "   oversized  dimWeight  unauthAndOver  \n",
       "0          0        9.0              0  \n",
       "\n",
       "[1 rows x 21 columns]"
      ]
     },
     "execution_count": 72,
     "metadata": {},
     "output_type": "execute_result"
    }
   ],
   "source": [
    "dframe.head(1)"
   ]
  },
  {
   "cell_type": "code",
   "execution_count": 73,
   "id": "95b4d974",
   "metadata": {},
   "outputs": [],
   "source": [
    "dframe[\"regular\"] = 0"
   ]
  },
  {
   "cell_type": "code",
   "execution_count": 74,
   "id": "62eb85a5",
   "metadata": {},
   "outputs": [],
   "source": [
    "dframe.loc[dframe[\"oversized\"]+dframe[\"unauthorized\"] == 0, \"regular\"] = 1"
   ]
  },
  {
   "cell_type": "code",
   "execution_count": 75,
   "id": "f37333ed",
   "metadata": {},
   "outputs": [],
   "source": [
    "dframe[\"overAndReg\"] = dframe[\"oversized\"] + dframe[\"regular\"]"
   ]
  },
  {
   "cell_type": "code",
   "execution_count": 76,
   "id": "a8f57839",
   "metadata": {},
   "outputs": [],
   "source": [
    "dfDual = dframe.groupby(\"sku\")[[\"oversized\",\"unauthorized\",\"regular\",\"unauthAndOver\",\"overAndReg\"]].sum()"
   ]
  },
  {
   "cell_type": "code",
   "execution_count": 77,
   "id": "8729328d",
   "metadata": {},
   "outputs": [
    {
     "data": {
      "text/plain": [
       "11"
      ]
     },
     "execution_count": 77,
     "metadata": {},
     "output_type": "execute_result"
    }
   ],
   "source": [
    "dfDual[(dfDual[\"oversized\"] != dfDual[\"unauthAndOver\"])].shape[0]"
   ]
  },
  {
   "cell_type": "code",
   "execution_count": 78,
   "id": "116f0b11",
   "metadata": {},
   "outputs": [
    {
     "data": {
      "text/html": [
       "<div>\n",
       "<style scoped>\n",
       "    .dataframe tbody tr th:only-of-type {\n",
       "        vertical-align: middle;\n",
       "    }\n",
       "\n",
       "    .dataframe tbody tr th {\n",
       "        vertical-align: top;\n",
       "    }\n",
       "\n",
       "    .dataframe thead th {\n",
       "        text-align: right;\n",
       "    }\n",
       "</style>\n",
       "<table border=\"1\" class=\"dataframe\">\n",
       "  <thead>\n",
       "    <tr style=\"text-align: right;\">\n",
       "      <th></th>\n",
       "      <th>oversized</th>\n",
       "      <th>unauthorized</th>\n",
       "      <th>regular</th>\n",
       "      <th>unauthAndOver</th>\n",
       "      <th>overAndReg</th>\n",
       "    </tr>\n",
       "    <tr>\n",
       "      <th>sku</th>\n",
       "      <th></th>\n",
       "      <th></th>\n",
       "      <th></th>\n",
       "      <th></th>\n",
       "      <th></th>\n",
       "    </tr>\n",
       "  </thead>\n",
       "  <tbody>\n",
       "    <tr>\n",
       "      <th>1013CPERC310153</th>\n",
       "      <td>0</td>\n",
       "      <td>1</td>\n",
       "      <td>1497</td>\n",
       "      <td>1</td>\n",
       "      <td>1497</td>\n",
       "    </tr>\n",
       "    <tr>\n",
       "      <th>1067BPERB760132</th>\n",
       "      <td>0</td>\n",
       "      <td>1</td>\n",
       "      <td>1</td>\n",
       "      <td>1</td>\n",
       "      <td>1</td>\n",
       "    </tr>\n",
       "    <tr>\n",
       "      <th>1070F0161</th>\n",
       "      <td>0</td>\n",
       "      <td>1</td>\n",
       "      <td>207</td>\n",
       "      <td>1</td>\n",
       "      <td>207</td>\n",
       "    </tr>\n",
       "    <tr>\n",
       "      <th>1169KPERK961115</th>\n",
       "      <td>1</td>\n",
       "      <td>2</td>\n",
       "      <td>0</td>\n",
       "      <td>3</td>\n",
       "      <td>1</td>\n",
       "    </tr>\n",
       "    <tr>\n",
       "      <th>1169TPERT961126</th>\n",
       "      <td>3</td>\n",
       "      <td>1</td>\n",
       "      <td>3</td>\n",
       "      <td>4</td>\n",
       "      <td>6</td>\n",
       "    </tr>\n",
       "    <tr>\n",
       "      <th>39DF319</th>\n",
       "      <td>0</td>\n",
       "      <td>1</td>\n",
       "      <td>114</td>\n",
       "      <td>1</td>\n",
       "      <td>114</td>\n",
       "    </tr>\n",
       "    <tr>\n",
       "      <th>5528CPERC825513</th>\n",
       "      <td>0</td>\n",
       "      <td>1</td>\n",
       "      <td>561</td>\n",
       "      <td>1</td>\n",
       "      <td>561</td>\n",
       "    </tr>\n",
       "    <tr>\n",
       "      <th>63010NPERN010364P</th>\n",
       "      <td>0</td>\n",
       "      <td>1</td>\n",
       "      <td>35</td>\n",
       "      <td>1</td>\n",
       "      <td>35</td>\n",
       "    </tr>\n",
       "    <tr>\n",
       "      <th>6528CPERC825618</th>\n",
       "      <td>0</td>\n",
       "      <td>1</td>\n",
       "      <td>113</td>\n",
       "      <td>1</td>\n",
       "      <td>113</td>\n",
       "    </tr>\n",
       "    <tr>\n",
       "      <th>7328DPERD823705</th>\n",
       "      <td>0</td>\n",
       "      <td>1</td>\n",
       "      <td>16</td>\n",
       "      <td>1</td>\n",
       "      <td>16</td>\n",
       "    </tr>\n",
       "    <tr>\n",
       "      <th>9010FBR010901</th>\n",
       "      <td>0</td>\n",
       "      <td>1</td>\n",
       "      <td>86</td>\n",
       "      <td>1</td>\n",
       "      <td>86</td>\n",
       "    </tr>\n",
       "  </tbody>\n",
       "</table>\n",
       "</div>"
      ],
      "text/plain": [
       "                   oversized  unauthorized  regular  unauthAndOver  overAndReg\n",
       "sku                                                                           \n",
       "1013CPERC310153            0             1     1497              1        1497\n",
       "1067BPERB760132            0             1        1              1           1\n",
       "1070F0161                  0             1      207              1         207\n",
       "1169KPERK961115            1             2        0              3           1\n",
       "1169TPERT961126            3             1        3              4           6\n",
       "39DF319                    0             1      114              1         114\n",
       "5528CPERC825513            0             1      561              1         561\n",
       "63010NPERN010364P          0             1       35              1          35\n",
       "6528CPERC825618            0             1      113              1         113\n",
       "7328DPERD823705            0             1       16              1          16\n",
       "9010FBR010901              0             1       86              1          86"
      ]
     },
     "execution_count": 78,
     "metadata": {},
     "output_type": "execute_result"
    }
   ],
   "source": [
    "dfDual[(dfDual[\"oversized\"] != dfDual[\"unauthAndOver\"])]"
   ]
  },
  {
   "cell_type": "code",
   "execution_count": 79,
   "id": "2023c1e7",
   "metadata": {},
   "outputs": [
    {
     "data": {
      "text/plain": [
       "7"
      ]
     },
     "execution_count": 79,
     "metadata": {},
     "output_type": "execute_result"
    }
   ],
   "source": [
    "dfDual[(dfDual[\"regular\"] != dfDual[\"overAndReg\"])].shape[0]"
   ]
  },
  {
   "cell_type": "code",
   "execution_count": 80,
   "id": "ceee945f",
   "metadata": {},
   "outputs": [
    {
     "data": {
      "text/html": [
       "<div>\n",
       "<style scoped>\n",
       "    .dataframe tbody tr th:only-of-type {\n",
       "        vertical-align: middle;\n",
       "    }\n",
       "\n",
       "    .dataframe tbody tr th {\n",
       "        vertical-align: top;\n",
       "    }\n",
       "\n",
       "    .dataframe thead th {\n",
       "        text-align: right;\n",
       "    }\n",
       "</style>\n",
       "<table border=\"1\" class=\"dataframe\">\n",
       "  <thead>\n",
       "    <tr style=\"text-align: right;\">\n",
       "      <th></th>\n",
       "      <th>oversized</th>\n",
       "      <th>unauthorized</th>\n",
       "      <th>regular</th>\n",
       "      <th>unauthAndOver</th>\n",
       "      <th>overAndReg</th>\n",
       "    </tr>\n",
       "    <tr>\n",
       "      <th>sku</th>\n",
       "      <th></th>\n",
       "      <th></th>\n",
       "      <th></th>\n",
       "      <th></th>\n",
       "      <th></th>\n",
       "    </tr>\n",
       "  </thead>\n",
       "  <tbody>\n",
       "    <tr>\n",
       "      <th>005545FR4550002</th>\n",
       "      <td>1</td>\n",
       "      <td>0</td>\n",
       "      <td>28</td>\n",
       "      <td>1</td>\n",
       "      <td>29</td>\n",
       "    </tr>\n",
       "    <tr>\n",
       "      <th>1169TPERT961126</th>\n",
       "      <td>3</td>\n",
       "      <td>1</td>\n",
       "      <td>3</td>\n",
       "      <td>4</td>\n",
       "      <td>6</td>\n",
       "    </tr>\n",
       "    <tr>\n",
       "      <th>5545HPERH545501</th>\n",
       "      <td>1</td>\n",
       "      <td>0</td>\n",
       "      <td>130</td>\n",
       "      <td>1</td>\n",
       "      <td>131</td>\n",
       "    </tr>\n",
       "    <tr>\n",
       "      <th>5545LPERL545506</th>\n",
       "      <td>5</td>\n",
       "      <td>0</td>\n",
       "      <td>104</td>\n",
       "      <td>5</td>\n",
       "      <td>109</td>\n",
       "    </tr>\n",
       "  </tbody>\n",
       "</table>\n",
       "</div>"
      ],
      "text/plain": [
       "                 oversized  unauthorized  regular  unauthAndOver  overAndReg\n",
       "sku                                                                         \n",
       "005545FR4550002          1             0       28              1          29\n",
       "1169TPERT961126          3             1        3              4           6\n",
       "5545HPERH545501          1             0      130              1         131\n",
       "5545LPERL545506          5             0      104              5         109"
      ]
     },
     "execution_count": 80,
     "metadata": {},
     "output_type": "execute_result"
    }
   ],
   "source": [
    "### 6,7\n",
    "dfDual[(dfDual[\"regular\"] != dfDual[\"overAndReg\"]) & (dfDual[\"oversized\"] != dfDual[\"overAndReg\"])]"
   ]
  },
  {
   "cell_type": "code",
   "execution_count": 81,
   "id": "df92e8c6",
   "metadata": {},
   "outputs": [
    {
     "ename": "SyntaxError",
     "evalue": "unexpected EOF while parsing (<ipython-input-81-a7f6a8f528cc>, line 4)",
     "output_type": "error",
     "traceback": [
      "\u001b[1;36m  File \u001b[1;32m\"<ipython-input-81-a7f6a8f528cc>\"\u001b[1;36m, line \u001b[1;32m4\u001b[0m\n\u001b[1;33m    .rename(columns={'Organisation Name':'Organisation Count'})\u001b[0m\n\u001b[1;37m                                                               ^\u001b[0m\n\u001b[1;31mSyntaxError\u001b[0m\u001b[1;31m:\u001b[0m unexpected EOF while parsing\n"
     ]
    }
   ],
   "source": [
    "(df.groupby('sku')\n",
    "    .agg({'Organisation Name':'count', 'oversized': 'sum', 'unauthorized': 'sum', 'unauthoAndOver': 'sum'})\n",
    "    .reset_index()\n",
    "    .rename(columns={'Organisation Name':'Organisation Count'})"
   ]
  },
  {
   "cell_type": "code",
   "execution_count": null,
   "id": "e4f01362",
   "metadata": {},
   "outputs": [],
   "source": [
    "dfDual[(dfDual[\"unauthorized\"] != dfDual[\"unauthAndOver\"])]"
   ]
  },
  {
   "cell_type": "code",
   "execution_count": null,
   "id": "d58abf80",
   "metadata": {},
   "outputs": [],
   "source": [
    "### 6,7\n",
    "dfDual[(dfDual[\"oversized\"] != dfDual[\"unauthAndOver\"]) & (dfDual[\"unauthorized\"] != dfDual[\"unauthAndOver\"])]"
   ]
  },
  {
   "cell_type": "code",
   "execution_count": null,
   "id": "53d482de",
   "metadata": {},
   "outputs": [],
   "source": [
    "## oversized vs regular\n",
    "dfDual[(dfDual[\"oversized\"] != dfDual[\"unauthAndOver\"]) & (dfDual[\"unauthorized\"] != dfDual[\"unauthAndOver\"])]"
   ]
  },
  {
   "cell_type": "code",
   "execution_count": null,
   "id": "e2e844a8",
   "metadata": {},
   "outputs": [],
   "source": [
    "# oversized vs unauthorized\n",
    "dfDual[(dfDual[\"oversized\"] != dfDual[\"unauthAndOver\"]) & (dfDual[\"unauthorized\"] != dfDual[\"unauthAndOver\"])]"
   ]
  },
  {
   "cell_type": "code",
   "execution_count": null,
   "id": "d3d36e45",
   "metadata": {},
   "outputs": [],
   "source": [
    "dframe.columns"
   ]
  },
  {
   "cell_type": "code",
   "execution_count": 83,
   "id": "ece7a79b",
   "metadata": {},
   "outputs": [
    {
     "name": "stdout",
     "output_type": "stream",
     "text": [
      "Collecting session-info\n",
      "  Downloading session_info-1.0.0.tar.gz (24 kB)\n",
      "Collecting stdlib_list\n",
      "  Downloading stdlib_list-0.8.0-py3-none-any.whl (63 kB)\n",
      "Building wheels for collected packages: session-info\n",
      "  Building wheel for session-info (setup.py): started\n",
      "  Building wheel for session-info (setup.py): finished with status 'done'\n",
      "  Created wheel for session-info: filename=session_info-1.0.0-py3-none-any.whl size=8053 sha256=0a3f1659f04dcbe5a9cae5f0e3ae5534cedad7f06ea384a62272332723502225\n",
      "  Stored in directory: c:\\users\\main user\\appdata\\local\\pip\\cache\\wheels\\5c\\1b\\4d\\111d73980c5c6a8e5e5905a19eccc34296cb359cac54c6c5b9\n",
      "Successfully built session-info\n",
      "Installing collected packages: stdlib-list, session-info\n",
      "Successfully installed session-info-1.0.0 stdlib-list-0.8.0\n"
     ]
    }
   ],
   "source": [
    "!pip3 install session-info"
   ]
  },
  {
   "cell_type": "code",
   "execution_count": 84,
   "id": "c42ad690",
   "metadata": {},
   "outputs": [],
   "source": [
    "import session_info"
   ]
  },
  {
   "cell_type": "code",
   "execution_count": 85,
   "id": "978393cc",
   "metadata": {},
   "outputs": [
    {
     "data": {
      "text/html": [
       "<details>\n",
       "<summary>Click to view session information</summary>\n",
       "<pre>\n",
       "-----\n",
       "matplotlib          3.3.4\n",
       "numpy               1.20.2\n",
       "pandas              1.2.5\n",
       "session_info        1.0.0\n",
       "-----\n",
       "</pre>\n",
       "<details>\n",
       "<summary>Click to view modules imported as dependencies</summary>\n",
       "<pre>\n",
       "PIL                 8.2.0\n",
       "anyio               NA\n",
       "attr                21.2.0\n",
       "babel               2.9.1\n",
       "backcall            0.2.0\n",
       "bottleneck          1.3.2\n",
       "brotli              NA\n",
       "certifi             2021.05.30\n",
       "cffi                1.14.5\n",
       "chardet             4.0.0\n",
       "colorama            0.4.4\n",
       "cycler              0.10.0\n",
       "cython_runtime      NA\n",
       "dateutil            2.8.1\n",
       "decorator           4.4.2\n",
       "google              NA\n",
       "idna                2.10\n",
       "ipykernel           5.3.4\n",
       "ipython_genutils    0.2.0\n",
       "jedi                0.17.2\n",
       "jinja2              3.0.1\n",
       "json5               NA\n",
       "jsonschema          3.2.0\n",
       "jupyter_server      1.4.1\n",
       "jupyterlab_server   2.4.0\n",
       "kiwisolver          1.3.1\n",
       "markupsafe          2.0.1\n",
       "mkl                 2.3.0\n",
       "mpl_toolkits        NA\n",
       "nbclassic           NA\n",
       "nbformat            5.1.3\n",
       "nt                  NA\n",
       "ntsecuritycon       NA\n",
       "numexpr             2.7.3\n",
       "packaging           20.9\n",
       "parso               0.7.0\n",
       "pickleshare         0.7.5\n",
       "pkg_resources       NA\n",
       "prometheus_client   NA\n",
       "prompt_toolkit      3.0.17\n",
       "pvectorc            NA\n",
       "pygments            2.9.0\n",
       "pyparsing           2.4.7\n",
       "pyrsistent          NA\n",
       "pythoncom           NA\n",
       "pytz                2021.1\n",
       "pywintypes          NA\n",
       "requests            2.25.1\n",
       "send2trash          NA\n",
       "six                 1.16.0\n",
       "sniffio             1.2.0\n",
       "socks               1.7.1\n",
       "sphinxcontrib       NA\n",
       "storemagic          NA\n",
       "tornado             6.1\n",
       "traitlets           5.0.5\n",
       "urllib3             1.26.6\n",
       "wcwidth             0.2.5\n",
       "win32api            NA\n",
       "win32com            NA\n",
       "win32security       NA\n",
       "zmq                 20.0.0\n",
       "zope                NA\n",
       "</pre>\n",
       "</details> <!-- seems like this ends pre, so might as well be explicit -->\n",
       "<pre>\n",
       "-----\n",
       "IPython             7.22.0\n",
       "jupyter_client      6.1.12\n",
       "jupyter_core        4.7.1\n",
       "jupyterlab          3.0.14\n",
       "notebook            6.4.0\n",
       "-----\n",
       "Python 3.8.10 (default, May 19 2021, 13:12:57) [MSC v.1916 64 bit (AMD64)]\n",
       "Windows-10-10.0.19041-SP0\n",
       "-----\n",
       "Session information updated at 2022-03-29 10:24\n",
       "</pre>\n",
       "</details>"
      ],
      "text/plain": [
       "<IPython.core.display.HTML object>"
      ]
     },
     "execution_count": 85,
     "metadata": {},
     "output_type": "execute_result"
    }
   ],
   "source": [
    "session_info.show()"
   ]
  },
  {
   "cell_type": "code",
   "execution_count": null,
   "id": "ecb03577",
   "metadata": {},
   "outputs": [],
   "source": []
  }
 ],
 "metadata": {
  "kernelspec": {
   "display_name": "Python 3",
   "language": "python",
   "name": "python3"
  },
  "language_info": {
   "codemirror_mode": {
    "name": "ipython",
    "version": 3
   },
   "file_extension": ".py",
   "mimetype": "text/x-python",
   "name": "python",
   "nbconvert_exporter": "python",
   "pygments_lexer": "ipython3",
   "version": "3.8.10"
  }
 },
 "nbformat": 4,
 "nbformat_minor": 5
}
